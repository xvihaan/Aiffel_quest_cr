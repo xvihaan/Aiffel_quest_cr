{
  "cells": [
    {
      "cell_type": "code",
      "execution_count": 1,
      "metadata": {
        "colab": {
          "base_uri": "https://localhost:8080/"
        },
        "collapsed": true,
        "id": "M5yZfjopnBV0",
        "outputId": "8b35b8e9-5fc6-4409-aafa-340df4e7bcf7"
      },
      "outputs": [
        {
          "name": "stdout",
          "output_type": "stream",
          "text": [
            "Requirement already satisfied: langchain_teddynote in /Users/minhyeok/Desktop/PROJECT/Aiffelthon/aiffelthon_tys_imdg/.venv/lib/python3.12/site-packages (0.3.41)\n",
            "Requirement already satisfied: langchain-community in /Users/minhyeok/Desktop/PROJECT/Aiffelthon/aiffelthon_tys_imdg/.venv/lib/python3.12/site-packages (0.3.13)\n",
            "Requirement already satisfied: pyngrok in /Users/minhyeok/Desktop/PROJECT/Aiffelthon/aiffelthon_tys_imdg/.venv/lib/python3.12/site-packages (7.2.3)\n",
            "Requirement already satisfied: fuzzywuzzy in /Users/minhyeok/Desktop/PROJECT/Aiffelthon/aiffelthon_tys_imdg/.venv/lib/python3.12/site-packages (0.18.0)\n",
            "Requirement already satisfied: python-dotenv in /Users/minhyeok/Desktop/PROJECT/Aiffelthon/aiffelthon_tys_imdg/.venv/lib/python3.12/site-packages (1.0.1)\n",
            "Requirement already satisfied: langchain in /Users/minhyeok/Desktop/PROJECT/Aiffelthon/aiffelthon_tys_imdg/.venv/lib/python3.12/site-packages (0.3.13)\n",
            "Requirement already satisfied: langchain-experimental in /Users/minhyeok/Desktop/PROJECT/Aiffelthon/aiffelthon_tys_imdg/.venv/lib/python3.12/site-packages (0.3.4)\n",
            "Requirement already satisfied: langchain-openai in /Users/minhyeok/Desktop/PROJECT/Aiffelthon/aiffelthon_tys_imdg/.venv/lib/python3.12/site-packages (0.2.14)\n",
            "Requirement already satisfied: langgraph in /Users/minhyeok/Desktop/PROJECT/Aiffelthon/aiffelthon_tys_imdg/.venv/lib/python3.12/site-packages (0.2.60)\n",
            "Requirement already satisfied: pymongo in /Users/minhyeok/Desktop/PROJECT/Aiffelthon/aiffelthon_tys_imdg/.venv/lib/python3.12/site-packages (4.10.1)\n",
            "Requirement already satisfied: pydantic in /Users/minhyeok/Desktop/PROJECT/Aiffelthon/aiffelthon_tys_imdg/.venv/lib/python3.12/site-packages (2.10.4)\n",
            "Requirement already satisfied: pandas in /Users/minhyeok/Desktop/PROJECT/Aiffelthon/aiffelthon_tys_imdg/.venv/lib/python3.12/site-packages (2.2.3)\n",
            "Requirement already satisfied: pillow in /Users/minhyeok/Desktop/PROJECT/Aiffelthon/aiffelthon_tys_imdg/.venv/lib/python3.12/site-packages (11.0.0)\n",
            "Requirement already satisfied: faiss-cpu in /Users/minhyeok/Desktop/PROJECT/Aiffelthon/aiffelthon_tys_imdg/.venv/lib/python3.12/site-packages (1.9.0.post1)\n",
            "Requirement already satisfied: rank-bm25 in /Users/minhyeok/Desktop/PROJECT/Aiffelthon/aiffelthon_tys_imdg/.venv/lib/python3.12/site-packages (0.2.2)\n",
            "Requirement already satisfied: matplotlib in /Users/minhyeok/Desktop/PROJECT/Aiffelthon/aiffelthon_tys_imdg/.venv/lib/python3.12/site-packages (3.10.0)\n",
            "Requirement already satisfied: streamlit in /Users/minhyeok/Desktop/PROJECT/Aiffelthon/aiffelthon_tys_imdg/.venv/lib/python3.12/site-packages (1.41.1)\n",
            "Requirement already satisfied: ipython in /Users/minhyeok/Desktop/PROJECT/Aiffelthon/aiffelthon_tys_imdg/.venv/lib/python3.12/site-packages (8.31.0)\n",
            "Requirement already satisfied: pymupdf in /Users/minhyeok/Desktop/PROJECT/Aiffelthon/aiffelthon_tys_imdg/.venv/lib/python3.12/site-packages (1.25.1)\n",
            "Requirement already satisfied: pypdf in /Users/minhyeok/Desktop/PROJECT/Aiffelthon/aiffelthon_tys_imdg/.venv/lib/python3.12/site-packages (5.1.0)\n",
            "Requirement already satisfied: kiwipiepy in /Users/minhyeok/Desktop/PROJECT/Aiffelthon/aiffelthon_tys_imdg/.venv/lib/python3.12/site-packages (from langchain_teddynote) (0.20.3)\n",
            "Requirement already satisfied: pinecone-client[grpc] in /Users/minhyeok/Desktop/PROJECT/Aiffelthon/aiffelthon_tys_imdg/.venv/lib/python3.12/site-packages (from langchain_teddynote) (5.0.1)\n",
            "Requirement already satisfied: pinecone-text in /Users/minhyeok/Desktop/PROJECT/Aiffelthon/aiffelthon_tys_imdg/.venv/lib/python3.12/site-packages (from langchain_teddynote) (0.9.0)\n",
            "Requirement already satisfied: olefile in /Users/minhyeok/Desktop/PROJECT/Aiffelthon/aiffelthon_tys_imdg/.venv/lib/python3.12/site-packages (from langchain_teddynote) (0.47)\n",
            "Requirement already satisfied: pdf2image in /Users/minhyeok/Desktop/PROJECT/Aiffelthon/aiffelthon_tys_imdg/.venv/lib/python3.12/site-packages (from langchain_teddynote) (1.17.0)\n",
            "Requirement already satisfied: openai in /Users/minhyeok/Desktop/PROJECT/Aiffelthon/aiffelthon_tys_imdg/.venv/lib/python3.12/site-packages (from langchain_teddynote) (1.58.1)\n",
            "Requirement already satisfied: anthropic in /Users/minhyeok/Desktop/PROJECT/Aiffelthon/aiffelthon_tys_imdg/.venv/lib/python3.12/site-packages (from langchain_teddynote) (0.43.0)\n",
            "Requirement already satisfied: deepl in /Users/minhyeok/Desktop/PROJECT/Aiffelthon/aiffelthon_tys_imdg/.venv/lib/python3.12/site-packages (from langchain_teddynote) (1.20.0)\n",
            "Requirement already satisfied: feedparser in /Users/minhyeok/Desktop/PROJECT/Aiffelthon/aiffelthon_tys_imdg/.venv/lib/python3.12/site-packages (from langchain_teddynote) (6.0.11)\n",
            "Requirement already satisfied: tavily-python in /Users/minhyeok/Desktop/PROJECT/Aiffelthon/aiffelthon_tys_imdg/.venv/lib/python3.12/site-packages (from langchain_teddynote) (0.5.0)\n",
            "Requirement already satisfied: PyYAML>=5.3 in /Users/minhyeok/Desktop/PROJECT/Aiffelthon/aiffelthon_tys_imdg/.venv/lib/python3.12/site-packages (from langchain-community) (6.0.2)\n",
            "Requirement already satisfied: SQLAlchemy<3,>=1.4 in /Users/minhyeok/Desktop/PROJECT/Aiffelthon/aiffelthon_tys_imdg/.venv/lib/python3.12/site-packages (from langchain-community) (2.0.36)\n",
            "Requirement already satisfied: aiohttp<4.0.0,>=3.8.3 in /Users/minhyeok/Desktop/PROJECT/Aiffelthon/aiffelthon_tys_imdg/.venv/lib/python3.12/site-packages (from langchain-community) (3.11.11)\n",
            "Requirement already satisfied: dataclasses-json<0.7,>=0.5.7 in /Users/minhyeok/Desktop/PROJECT/Aiffelthon/aiffelthon_tys_imdg/.venv/lib/python3.12/site-packages (from langchain-community) (0.6.7)\n",
            "Requirement already satisfied: httpx-sse<0.5.0,>=0.4.0 in /Users/minhyeok/Desktop/PROJECT/Aiffelthon/aiffelthon_tys_imdg/.venv/lib/python3.12/site-packages (from langchain-community) (0.4.0)\n",
            "Requirement already satisfied: langchain-core<0.4.0,>=0.3.27 in /Users/minhyeok/Desktop/PROJECT/Aiffelthon/aiffelthon_tys_imdg/.venv/lib/python3.12/site-packages (from langchain-community) (0.3.28)\n",
            "Requirement already satisfied: langsmith<0.3,>=0.1.125 in /Users/minhyeok/Desktop/PROJECT/Aiffelthon/aiffelthon_tys_imdg/.venv/lib/python3.12/site-packages (from langchain-community) (0.2.4)\n",
            "Requirement already satisfied: numpy<3,>=1.26.2 in /Users/minhyeok/Desktop/PROJECT/Aiffelthon/aiffelthon_tys_imdg/.venv/lib/python3.12/site-packages (from langchain-community) (1.26.4)\n",
            "Requirement already satisfied: pydantic-settings<3.0.0,>=2.4.0 in /Users/minhyeok/Desktop/PROJECT/Aiffelthon/aiffelthon_tys_imdg/.venv/lib/python3.12/site-packages (from langchain-community) (2.7.0)\n",
            "Requirement already satisfied: requests<3,>=2 in /Users/minhyeok/Desktop/PROJECT/Aiffelthon/aiffelthon_tys_imdg/.venv/lib/python3.12/site-packages (from langchain-community) (2.32.3)\n",
            "Requirement already satisfied: tenacity!=8.4.0,<10,>=8.1.0 in /Users/minhyeok/Desktop/PROJECT/Aiffelthon/aiffelthon_tys_imdg/.venv/lib/python3.12/site-packages (from langchain-community) (9.0.0)\n",
            "Requirement already satisfied: langchain-text-splitters<0.4.0,>=0.3.3 in /Users/minhyeok/Desktop/PROJECT/Aiffelthon/aiffelthon_tys_imdg/.venv/lib/python3.12/site-packages (from langchain) (0.3.4)\n",
            "Requirement already satisfied: tiktoken<1,>=0.7 in /Users/minhyeok/Desktop/PROJECT/Aiffelthon/aiffelthon_tys_imdg/.venv/lib/python3.12/site-packages (from langchain-openai) (0.8.0)\n",
            "Requirement already satisfied: langgraph-checkpoint<3.0.0,>=2.0.4 in /Users/minhyeok/Desktop/PROJECT/Aiffelthon/aiffelthon_tys_imdg/.venv/lib/python3.12/site-packages (from langgraph) (2.0.9)\n",
            "Requirement already satisfied: langgraph-sdk<0.2.0,>=0.1.42 in /Users/minhyeok/Desktop/PROJECT/Aiffelthon/aiffelthon_tys_imdg/.venv/lib/python3.12/site-packages (from langgraph) (0.1.48)\n",
            "Requirement already satisfied: dnspython<3.0.0,>=1.16.0 in /Users/minhyeok/Desktop/PROJECT/Aiffelthon/aiffelthon_tys_imdg/.venv/lib/python3.12/site-packages (from pymongo) (2.7.0)\n",
            "Requirement already satisfied: annotated-types>=0.6.0 in /Users/minhyeok/Desktop/PROJECT/Aiffelthon/aiffelthon_tys_imdg/.venv/lib/python3.12/site-packages (from pydantic) (0.7.0)\n",
            "Requirement already satisfied: pydantic-core==2.27.2 in /Users/minhyeok/Desktop/PROJECT/Aiffelthon/aiffelthon_tys_imdg/.venv/lib/python3.12/site-packages (from pydantic) (2.27.2)\n",
            "Requirement already satisfied: typing-extensions>=4.12.2 in /Users/minhyeok/Desktop/PROJECT/Aiffelthon/aiffelthon_tys_imdg/.venv/lib/python3.12/site-packages (from pydantic) (4.12.2)\n",
            "Requirement already satisfied: python-dateutil>=2.8.2 in /Users/minhyeok/Desktop/PROJECT/Aiffelthon/aiffelthon_tys_imdg/.venv/lib/python3.12/site-packages (from pandas) (2.9.0.post0)\n",
            "Requirement already satisfied: pytz>=2020.1 in /Users/minhyeok/Desktop/PROJECT/Aiffelthon/aiffelthon_tys_imdg/.venv/lib/python3.12/site-packages (from pandas) (2024.2)\n",
            "Requirement already satisfied: tzdata>=2022.7 in /Users/minhyeok/Desktop/PROJECT/Aiffelthon/aiffelthon_tys_imdg/.venv/lib/python3.12/site-packages (from pandas) (2024.2)\n",
            "Requirement already satisfied: packaging in /Users/minhyeok/Desktop/PROJECT/Aiffelthon/aiffelthon_tys_imdg/.venv/lib/python3.12/site-packages (from faiss-cpu) (24.2)\n",
            "Requirement already satisfied: contourpy>=1.0.1 in /Users/minhyeok/Desktop/PROJECT/Aiffelthon/aiffelthon_tys_imdg/.venv/lib/python3.12/site-packages (from matplotlib) (1.3.1)\n",
            "Requirement already satisfied: cycler>=0.10 in /Users/minhyeok/Desktop/PROJECT/Aiffelthon/aiffelthon_tys_imdg/.venv/lib/python3.12/site-packages (from matplotlib) (0.12.1)\n",
            "Requirement already satisfied: fonttools>=4.22.0 in /Users/minhyeok/Desktop/PROJECT/Aiffelthon/aiffelthon_tys_imdg/.venv/lib/python3.12/site-packages (from matplotlib) (4.55.3)\n",
            "Requirement already satisfied: kiwisolver>=1.3.1 in /Users/minhyeok/Desktop/PROJECT/Aiffelthon/aiffelthon_tys_imdg/.venv/lib/python3.12/site-packages (from matplotlib) (1.4.7)\n",
            "Requirement already satisfied: pyparsing>=2.3.1 in /Users/minhyeok/Desktop/PROJECT/Aiffelthon/aiffelthon_tys_imdg/.venv/lib/python3.12/site-packages (from matplotlib) (3.2.0)\n",
            "Requirement already satisfied: altair<6,>=4.0 in /Users/minhyeok/Desktop/PROJECT/Aiffelthon/aiffelthon_tys_imdg/.venv/lib/python3.12/site-packages (from streamlit) (5.5.0)\n",
            "Requirement already satisfied: blinker<2,>=1.0.0 in /Users/minhyeok/Desktop/PROJECT/Aiffelthon/aiffelthon_tys_imdg/.venv/lib/python3.12/site-packages (from streamlit) (1.9.0)\n",
            "Requirement already satisfied: cachetools<6,>=4.0 in /Users/minhyeok/Desktop/PROJECT/Aiffelthon/aiffelthon_tys_imdg/.venv/lib/python3.12/site-packages (from streamlit) (5.5.0)\n",
            "Requirement already satisfied: click<9,>=7.0 in /Users/minhyeok/Desktop/PROJECT/Aiffelthon/aiffelthon_tys_imdg/.venv/lib/python3.12/site-packages (from streamlit) (8.1.8)\n",
            "Requirement already satisfied: protobuf<6,>=3.20 in /Users/minhyeok/Desktop/PROJECT/Aiffelthon/aiffelthon_tys_imdg/.venv/lib/python3.12/site-packages (from streamlit) (4.25.5)\n",
            "Requirement already satisfied: pyarrow>=7.0 in /Users/minhyeok/Desktop/PROJECT/Aiffelthon/aiffelthon_tys_imdg/.venv/lib/python3.12/site-packages (from streamlit) (18.1.0)\n",
            "Requirement already satisfied: rich<14,>=10.14.0 in /Users/minhyeok/Desktop/PROJECT/Aiffelthon/aiffelthon_tys_imdg/.venv/lib/python3.12/site-packages (from streamlit) (13.9.4)\n",
            "Requirement already satisfied: toml<2,>=0.10.1 in /Users/minhyeok/Desktop/PROJECT/Aiffelthon/aiffelthon_tys_imdg/.venv/lib/python3.12/site-packages (from streamlit) (0.10.2)\n",
            "Requirement already satisfied: gitpython!=3.1.19,<4,>=3.0.7 in /Users/minhyeok/Desktop/PROJECT/Aiffelthon/aiffelthon_tys_imdg/.venv/lib/python3.12/site-packages (from streamlit) (3.1.43)\n",
            "Requirement already satisfied: pydeck<1,>=0.8.0b4 in /Users/minhyeok/Desktop/PROJECT/Aiffelthon/aiffelthon_tys_imdg/.venv/lib/python3.12/site-packages (from streamlit) (0.9.1)\n",
            "Requirement already satisfied: tornado<7,>=6.0.3 in /Users/minhyeok/Desktop/PROJECT/Aiffelthon/aiffelthon_tys_imdg/.venv/lib/python3.12/site-packages (from streamlit) (6.4.2)\n",
            "Requirement already satisfied: decorator in /Users/minhyeok/Desktop/PROJECT/Aiffelthon/aiffelthon_tys_imdg/.venv/lib/python3.12/site-packages (from ipython) (5.1.1)\n",
            "Requirement already satisfied: jedi>=0.16 in /Users/minhyeok/Desktop/PROJECT/Aiffelthon/aiffelthon_tys_imdg/.venv/lib/python3.12/site-packages (from ipython) (0.19.2)\n",
            "Requirement already satisfied: matplotlib-inline in /Users/minhyeok/Desktop/PROJECT/Aiffelthon/aiffelthon_tys_imdg/.venv/lib/python3.12/site-packages (from ipython) (0.1.7)\n",
            "Requirement already satisfied: pexpect>4.3 in /Users/minhyeok/Desktop/PROJECT/Aiffelthon/aiffelthon_tys_imdg/.venv/lib/python3.12/site-packages (from ipython) (4.9.0)\n",
            "Requirement already satisfied: prompt_toolkit<3.1.0,>=3.0.41 in /Users/minhyeok/Desktop/PROJECT/Aiffelthon/aiffelthon_tys_imdg/.venv/lib/python3.12/site-packages (from ipython) (3.0.48)\n",
            "Requirement already satisfied: pygments>=2.4.0 in /Users/minhyeok/Desktop/PROJECT/Aiffelthon/aiffelthon_tys_imdg/.venv/lib/python3.12/site-packages (from ipython) (2.18.0)\n",
            "Requirement already satisfied: stack_data in /Users/minhyeok/Desktop/PROJECT/Aiffelthon/aiffelthon_tys_imdg/.venv/lib/python3.12/site-packages (from ipython) (0.6.3)\n",
            "Requirement already satisfied: traitlets>=5.13.0 in /Users/minhyeok/Desktop/PROJECT/Aiffelthon/aiffelthon_tys_imdg/.venv/lib/python3.12/site-packages (from ipython) (5.14.3)\n",
            "Requirement already satisfied: aiohappyeyeballs>=2.3.0 in /Users/minhyeok/Desktop/PROJECT/Aiffelthon/aiffelthon_tys_imdg/.venv/lib/python3.12/site-packages (from aiohttp<4.0.0,>=3.8.3->langchain-community) (2.4.4)\n",
            "Requirement already satisfied: aiosignal>=1.1.2 in /Users/minhyeok/Desktop/PROJECT/Aiffelthon/aiffelthon_tys_imdg/.venv/lib/python3.12/site-packages (from aiohttp<4.0.0,>=3.8.3->langchain-community) (1.3.2)\n",
            "Requirement already satisfied: attrs>=17.3.0 in /Users/minhyeok/Desktop/PROJECT/Aiffelthon/aiffelthon_tys_imdg/.venv/lib/python3.12/site-packages (from aiohttp<4.0.0,>=3.8.3->langchain-community) (24.3.0)\n",
            "Requirement already satisfied: frozenlist>=1.1.1 in /Users/minhyeok/Desktop/PROJECT/Aiffelthon/aiffelthon_tys_imdg/.venv/lib/python3.12/site-packages (from aiohttp<4.0.0,>=3.8.3->langchain-community) (1.5.0)\n",
            "Requirement already satisfied: multidict<7.0,>=4.5 in /Users/minhyeok/Desktop/PROJECT/Aiffelthon/aiffelthon_tys_imdg/.venv/lib/python3.12/site-packages (from aiohttp<4.0.0,>=3.8.3->langchain-community) (6.1.0)\n",
            "Requirement already satisfied: propcache>=0.2.0 in /Users/minhyeok/Desktop/PROJECT/Aiffelthon/aiffelthon_tys_imdg/.venv/lib/python3.12/site-packages (from aiohttp<4.0.0,>=3.8.3->langchain-community) (0.2.1)\n",
            "Requirement already satisfied: yarl<2.0,>=1.17.0 in /Users/minhyeok/Desktop/PROJECT/Aiffelthon/aiffelthon_tys_imdg/.venv/lib/python3.12/site-packages (from aiohttp<4.0.0,>=3.8.3->langchain-community) (1.18.3)\n",
            "Requirement already satisfied: jinja2 in /Users/minhyeok/Desktop/PROJECT/Aiffelthon/aiffelthon_tys_imdg/.venv/lib/python3.12/site-packages (from altair<6,>=4.0->streamlit) (3.1.5)\n",
            "Requirement already satisfied: jsonschema>=3.0 in /Users/minhyeok/Desktop/PROJECT/Aiffelthon/aiffelthon_tys_imdg/.venv/lib/python3.12/site-packages (from altair<6,>=4.0->streamlit) (4.23.0)\n",
            "Requirement already satisfied: narwhals>=1.14.2 in /Users/minhyeok/Desktop/PROJECT/Aiffelthon/aiffelthon_tys_imdg/.venv/lib/python3.12/site-packages (from altair<6,>=4.0->streamlit) (1.19.0)\n",
            "Requirement already satisfied: marshmallow<4.0.0,>=3.18.0 in /Users/minhyeok/Desktop/PROJECT/Aiffelthon/aiffelthon_tys_imdg/.venv/lib/python3.12/site-packages (from dataclasses-json<0.7,>=0.5.7->langchain-community) (3.23.2)\n",
            "Requirement already satisfied: typing-inspect<1,>=0.4.0 in /Users/minhyeok/Desktop/PROJECT/Aiffelthon/aiffelthon_tys_imdg/.venv/lib/python3.12/site-packages (from dataclasses-json<0.7,>=0.5.7->langchain-community) (0.9.0)\n",
            "Requirement already satisfied: gitdb<5,>=4.0.1 in /Users/minhyeok/Desktop/PROJECT/Aiffelthon/aiffelthon_tys_imdg/.venv/lib/python3.12/site-packages (from gitpython!=3.1.19,<4,>=3.0.7->streamlit) (4.0.11)\n",
            "Requirement already satisfied: parso<0.9.0,>=0.8.4 in /Users/minhyeok/Desktop/PROJECT/Aiffelthon/aiffelthon_tys_imdg/.venv/lib/python3.12/site-packages (from jedi>=0.16->ipython) (0.8.4)\n",
            "Requirement already satisfied: jsonpatch<2.0,>=1.33 in /Users/minhyeok/Desktop/PROJECT/Aiffelthon/aiffelthon_tys_imdg/.venv/lib/python3.12/site-packages (from langchain-core<0.4.0,>=0.3.27->langchain-community) (1.33)\n",
            "Requirement already satisfied: msgpack<2.0.0,>=1.1.0 in /Users/minhyeok/Desktop/PROJECT/Aiffelthon/aiffelthon_tys_imdg/.venv/lib/python3.12/site-packages (from langgraph-checkpoint<3.0.0,>=2.0.4->langgraph) (1.1.0)\n",
            "Requirement already satisfied: httpx>=0.25.2 in /Users/minhyeok/Desktop/PROJECT/Aiffelthon/aiffelthon_tys_imdg/.venv/lib/python3.12/site-packages (from langgraph-sdk<0.2.0,>=0.1.42->langgraph) (0.28.1)\n",
            "Requirement already satisfied: orjson>=3.10.1 in /Users/minhyeok/Desktop/PROJECT/Aiffelthon/aiffelthon_tys_imdg/.venv/lib/python3.12/site-packages (from langgraph-sdk<0.2.0,>=0.1.42->langgraph) (3.10.12)\n",
            "Requirement already satisfied: requests-toolbelt<2.0.0,>=1.0.0 in /Users/minhyeok/Desktop/PROJECT/Aiffelthon/aiffelthon_tys_imdg/.venv/lib/python3.12/site-packages (from langsmith<0.3,>=0.1.125->langchain-community) (1.0.0)\n",
            "Requirement already satisfied: anyio<5,>=3.5.0 in /Users/minhyeok/Desktop/PROJECT/Aiffelthon/aiffelthon_tys_imdg/.venv/lib/python3.12/site-packages (from openai->langchain_teddynote) (4.7.0)\n",
            "Requirement already satisfied: distro<2,>=1.7.0 in /Users/minhyeok/Desktop/PROJECT/Aiffelthon/aiffelthon_tys_imdg/.venv/lib/python3.12/site-packages (from openai->langchain_teddynote) (1.9.0)\n",
            "Requirement already satisfied: jiter<1,>=0.4.0 in /Users/minhyeok/Desktop/PROJECT/Aiffelthon/aiffelthon_tys_imdg/.venv/lib/python3.12/site-packages (from openai->langchain_teddynote) (0.8.2)\n",
            "Requirement already satisfied: sniffio in /Users/minhyeok/Desktop/PROJECT/Aiffelthon/aiffelthon_tys_imdg/.venv/lib/python3.12/site-packages (from openai->langchain_teddynote) (1.3.1)\n",
            "Requirement already satisfied: tqdm>4 in /Users/minhyeok/Desktop/PROJECT/Aiffelthon/aiffelthon_tys_imdg/.venv/lib/python3.12/site-packages (from openai->langchain_teddynote) (4.67.1)\n",
            "Requirement already satisfied: ptyprocess>=0.5 in /Users/minhyeok/Desktop/PROJECT/Aiffelthon/aiffelthon_tys_imdg/.venv/lib/python3.12/site-packages (from pexpect>4.3->ipython) (0.7.0)\n",
            "Requirement already satisfied: wcwidth in /Users/minhyeok/Desktop/PROJECT/Aiffelthon/aiffelthon_tys_imdg/.venv/lib/python3.12/site-packages (from prompt_toolkit<3.1.0,>=3.0.41->ipython) (0.2.13)\n",
            "Requirement already satisfied: six>=1.5 in /Users/minhyeok/Desktop/PROJECT/Aiffelthon/aiffelthon_tys_imdg/.venv/lib/python3.12/site-packages (from python-dateutil>=2.8.2->pandas) (1.17.0)\n",
            "Requirement already satisfied: charset-normalizer<4,>=2 in /Users/minhyeok/Desktop/PROJECT/Aiffelthon/aiffelthon_tys_imdg/.venv/lib/python3.12/site-packages (from requests<3,>=2->langchain-community) (3.4.0)\n",
            "Requirement already satisfied: idna<4,>=2.5 in /Users/minhyeok/Desktop/PROJECT/Aiffelthon/aiffelthon_tys_imdg/.venv/lib/python3.12/site-packages (from requests<3,>=2->langchain-community) (3.10)\n",
            "Requirement already satisfied: urllib3<3,>=1.21.1 in /Users/minhyeok/Desktop/PROJECT/Aiffelthon/aiffelthon_tys_imdg/.venv/lib/python3.12/site-packages (from requests<3,>=2->langchain-community) (2.3.0)\n",
            "Requirement already satisfied: certifi>=2017.4.17 in /Users/minhyeok/Desktop/PROJECT/Aiffelthon/aiffelthon_tys_imdg/.venv/lib/python3.12/site-packages (from requests<3,>=2->langchain-community) (2024.12.14)\n",
            "Requirement already satisfied: markdown-it-py>=2.2.0 in /Users/minhyeok/Desktop/PROJECT/Aiffelthon/aiffelthon_tys_imdg/.venv/lib/python3.12/site-packages (from rich<14,>=10.14.0->streamlit) (3.0.0)\n",
            "Requirement already satisfied: regex>=2022.1.18 in /Users/minhyeok/Desktop/PROJECT/Aiffelthon/aiffelthon_tys_imdg/.venv/lib/python3.12/site-packages (from tiktoken<1,>=0.7->langchain-openai) (2024.11.6)\n",
            "Requirement already satisfied: sgmllib3k in /Users/minhyeok/Desktop/PROJECT/Aiffelthon/aiffelthon_tys_imdg/.venv/lib/python3.12/site-packages (from feedparser->langchain_teddynote) (1.0.0)\n",
            "Requirement already satisfied: kiwipiepy_model<0.21,>=0.20 in /Users/minhyeok/Desktop/PROJECT/Aiffelthon/aiffelthon_tys_imdg/.venv/lib/python3.12/site-packages (from kiwipiepy->langchain_teddynote) (0.20.0)\n",
            "Requirement already satisfied: googleapis-common-protos>=1.53.0 in /Users/minhyeok/Desktop/PROJECT/Aiffelthon/aiffelthon_tys_imdg/.venv/lib/python3.12/site-packages (from pinecone-client[grpc]->langchain_teddynote) (1.66.0)\n",
            "Requirement already satisfied: grpcio>=1.59.0 in /Users/minhyeok/Desktop/PROJECT/Aiffelthon/aiffelthon_tys_imdg/.venv/lib/python3.12/site-packages (from pinecone-client[grpc]->langchain_teddynote) (1.69.0)\n",
            "Requirement already satisfied: lz4>=3.1.3 in /Users/minhyeok/Desktop/PROJECT/Aiffelthon/aiffelthon_tys_imdg/.venv/lib/python3.12/site-packages (from pinecone-client[grpc]->langchain_teddynote) (4.3.3)\n",
            "Requirement already satisfied: pinecone-plugin-inference<2.0.0,>=1.0.3 in /Users/minhyeok/Desktop/PROJECT/Aiffelthon/aiffelthon_tys_imdg/.venv/lib/python3.12/site-packages (from pinecone-client[grpc]->langchain_teddynote) (1.1.0)\n",
            "Requirement already satisfied: pinecone-plugin-interface<0.0.8,>=0.0.7 in /Users/minhyeok/Desktop/PROJECT/Aiffelthon/aiffelthon_tys_imdg/.venv/lib/python3.12/site-packages (from pinecone-client[grpc]->langchain_teddynote) (0.0.7)\n",
            "Requirement already satisfied: protoc-gen-openapiv2<0.0.2,>=0.0.1 in /Users/minhyeok/Desktop/PROJECT/Aiffelthon/aiffelthon_tys_imdg/.venv/lib/python3.12/site-packages (from pinecone-client[grpc]->langchain_teddynote) (0.0.1)\n",
            "Requirement already satisfied: mmh3<5.0.0,>=4.1.0 in /Users/minhyeok/Desktop/PROJECT/Aiffelthon/aiffelthon_tys_imdg/.venv/lib/python3.12/site-packages (from pinecone-text->langchain_teddynote) (4.1.0)\n",
            "Requirement already satisfied: nltk<4.0.0,>=3.6.5 in /Users/minhyeok/Desktop/PROJECT/Aiffelthon/aiffelthon_tys_imdg/.venv/lib/python3.12/site-packages (from pinecone-text->langchain_teddynote) (3.9.1)\n",
            "Requirement already satisfied: types-requests<3.0.0,>=2.25.0 in /Users/minhyeok/Desktop/PROJECT/Aiffelthon/aiffelthon_tys_imdg/.venv/lib/python3.12/site-packages (from pinecone-text->langchain_teddynote) (2.32.0.20241016)\n",
            "Requirement already satisfied: wget<4.0,>=3.2 in /Users/minhyeok/Desktop/PROJECT/Aiffelthon/aiffelthon_tys_imdg/.venv/lib/python3.12/site-packages (from pinecone-text->langchain_teddynote) (3.2)\n",
            "Requirement already satisfied: executing>=1.2.0 in /Users/minhyeok/Desktop/PROJECT/Aiffelthon/aiffelthon_tys_imdg/.venv/lib/python3.12/site-packages (from stack_data->ipython) (2.1.0)\n",
            "Requirement already satisfied: asttokens>=2.1.0 in /Users/minhyeok/Desktop/PROJECT/Aiffelthon/aiffelthon_tys_imdg/.venv/lib/python3.12/site-packages (from stack_data->ipython) (3.0.0)\n",
            "Requirement already satisfied: pure-eval in /Users/minhyeok/Desktop/PROJECT/Aiffelthon/aiffelthon_tys_imdg/.venv/lib/python3.12/site-packages (from stack_data->ipython) (0.2.3)\n",
            "Requirement already satisfied: smmap<6,>=3.0.1 in /Users/minhyeok/Desktop/PROJECT/Aiffelthon/aiffelthon_tys_imdg/.venv/lib/python3.12/site-packages (from gitdb<5,>=4.0.1->gitpython!=3.1.19,<4,>=3.0.7->streamlit) (5.0.1)\n",
            "Requirement already satisfied: httpcore==1.* in /Users/minhyeok/Desktop/PROJECT/Aiffelthon/aiffelthon_tys_imdg/.venv/lib/python3.12/site-packages (from httpx>=0.25.2->langgraph-sdk<0.2.0,>=0.1.42->langgraph) (1.0.7)\n",
            "Requirement already satisfied: h11<0.15,>=0.13 in /Users/minhyeok/Desktop/PROJECT/Aiffelthon/aiffelthon_tys_imdg/.venv/lib/python3.12/site-packages (from httpcore==1.*->httpx>=0.25.2->langgraph-sdk<0.2.0,>=0.1.42->langgraph) (0.14.0)\n",
            "Requirement already satisfied: MarkupSafe>=2.0 in /Users/minhyeok/Desktop/PROJECT/Aiffelthon/aiffelthon_tys_imdg/.venv/lib/python3.12/site-packages (from jinja2->altair<6,>=4.0->streamlit) (3.0.2)\n",
            "Requirement already satisfied: jsonpointer>=1.9 in /Users/minhyeok/Desktop/PROJECT/Aiffelthon/aiffelthon_tys_imdg/.venv/lib/python3.12/site-packages (from jsonpatch<2.0,>=1.33->langchain-core<0.4.0,>=0.3.27->langchain-community) (3.0.0)\n",
            "Requirement already satisfied: jsonschema-specifications>=2023.03.6 in /Users/minhyeok/Desktop/PROJECT/Aiffelthon/aiffelthon_tys_imdg/.venv/lib/python3.12/site-packages (from jsonschema>=3.0->altair<6,>=4.0->streamlit) (2024.10.1)\n",
            "Requirement already satisfied: referencing>=0.28.4 in /Users/minhyeok/Desktop/PROJECT/Aiffelthon/aiffelthon_tys_imdg/.venv/lib/python3.12/site-packages (from jsonschema>=3.0->altair<6,>=4.0->streamlit) (0.35.1)\n",
            "Requirement already satisfied: rpds-py>=0.7.1 in /Users/minhyeok/Desktop/PROJECT/Aiffelthon/aiffelthon_tys_imdg/.venv/lib/python3.12/site-packages (from jsonschema>=3.0->altair<6,>=4.0->streamlit) (0.22.3)\n",
            "Requirement already satisfied: mdurl~=0.1 in /Users/minhyeok/Desktop/PROJECT/Aiffelthon/aiffelthon_tys_imdg/.venv/lib/python3.12/site-packages (from markdown-it-py>=2.2.0->rich<14,>=10.14.0->streamlit) (0.1.2)\n",
            "Requirement already satisfied: joblib in /Users/minhyeok/Desktop/PROJECT/Aiffelthon/aiffelthon_tys_imdg/.venv/lib/python3.12/site-packages (from nltk<4.0.0,>=3.6.5->pinecone-text->langchain_teddynote) (1.4.2)\n",
            "Requirement already satisfied: mypy-extensions>=0.3.0 in /Users/minhyeok/Desktop/PROJECT/Aiffelthon/aiffelthon_tys_imdg/.venv/lib/python3.12/site-packages (from typing-inspect<1,>=0.4.0->dataclasses-json<0.7,>=0.5.7->langchain-community) (1.0.0)\n",
            "Note: you may need to restart the kernel to use updated packages.\n"
          ]
        }
      ],
      "source": [
        "%pip install langchain_teddynote langchain-community pyngrok fuzzywuzzy python-dotenv langchain langchain-experimental langchain-openai langgraph pymongo pydantic pandas pillow faiss-cpu rank-bm25 matplotlib streamlit ipython pymupdf pypdf"
      ]
    },
    {
      "cell_type": "code",
      "execution_count": 108,
      "metadata": {
        "colab": {
          "base_uri": "https://localhost:8080/"
        },
        "id": "oeZuS2M2kn2t",
        "outputId": "7c93f3e0-8102-4bcd-8338-9312656f648c"
      },
      "outputs": [
        {
          "name": "stdout",
          "output_type": "stream",
          "text": [
            "Drive already mounted at /content/drive; to attempt to forcibly remount, call drive.mount(\"/content/drive\", force_remount=True).\n"
          ]
        }
      ],
      "source": [
        "from google.colab import drive\n",
        "drive.mount('/content/drive')\n",
        "\n",
        "import sys\n",
        "sys.path.append('/content/drive/MyDrive/Aiffelthon/chul/aiffelthon_tys_imdg/tys')\n",
        "\n",
        "import os\n",
        "os.chdir('/content/drive/MyDrive/Aiffelthon/chul/aiffelthon_tys_imdg/tys/baseline/app')\n",
        "os.chdir('/content/drive/MyDrive/Aiffelthon/chul/aiffelthon_tys_imdg/tys/baseline/app/H1')"
      ]
    },
    {
      "cell_type": "markdown",
      "metadata": {
        "id": "mldGj8GVXUbd"
      },
      "source": [
        "# Graph"
      ]
    },
    {
      "cell_type": "markdown",
      "metadata": {
        "id": "qQTLaSk1XSex"
      },
      "source": [
        "## setting"
      ]
    },
    {
      "cell_type": "code",
      "execution_count": 3,
      "metadata": {
        "colab": {
          "base_uri": "https://localhost:8080/"
        },
        "id": "QfgJzh0_XRbo",
        "outputId": "79ff6f60-5b3a-411e-f72a-3718499be1e0"
      },
      "outputs": [
        {
          "data": {
            "text/plain": [
              "True"
            ]
          },
          "execution_count": 3,
          "metadata": {},
          "output_type": "execute_result"
        }
      ],
      "source": [
        "from dotenv import load_dotenv\n",
        "from langchain_core.prompts import PromptTemplate\n",
        "from langchain.chat_models import ChatOpenAI\n",
        "\n",
        "# .env 파일에서 환경 변수 로드\n",
        "load_dotenv()"
      ]
    },
    {
      "cell_type": "code",
      "execution_count": 4,
      "metadata": {
        "id": "bZ7oe2J2mv4R"
      },
      "outputs": [],
      "source": [
        "import re\n",
        "\n",
        "def str2dict_parser(input_str, type_name):\n",
        "    \"\"\"\n",
        "    주어진 문자열에서 responce와 동적인 키 이름의 데이터를 파싱하여 딕셔너리로 반환하는 함수\n",
        "    \"\"\"\n",
        "    # 정규 표현식으로 키 이름과 값을 동적으로 파싱\n",
        "    pattern = rf\"responce: (\\d), {type_name}: (.*)\"\n",
        "    match = re.match(pattern, input_str)\n",
        "\n",
        "    if match:\n",
        "        responce = int(match.group(1))  # responce 값을 정수로 변환\n",
        "        dynamic_list = match.group(2).split(\", \")  # 리스트로 변환\n",
        "        result = {\"responce\": responce, type_name: dynamic_list}\n",
        "        return result\n",
        "    else:\n",
        "        raise ValueError(\"Input string does not match the expected format.\")\n",
        "\n"
      ]
    },
    {
      "cell_type": "markdown",
      "metadata": {
        "id": "mFHmLzJt8lXE"
      },
      "source": [
        "## Create vector Content"
      ]
    },
    {
      "cell_type": "code",
      "execution_count": 6,
      "metadata": {
        "colab": {
          "base_uri": "https://localhost:8080/"
        },
        "id": "E5ai_wd58P75",
        "outputId": "7f911b1e-2ede-448c-d1db-96fba62a0f4d"
      },
      "outputs": [
        {
          "name": "stdout",
          "output_type": "stream",
          "text": [
            "Vector DB already exists. Skipping creation.\n"
          ]
        }
      ],
      "source": [
        "from langchain_community.document_loaders import PyPDFLoader\n",
        "from langchain.text_splitter import RecursiveCharacterTextSplitter\n",
        "from langchain_community.vectorstores import FAISS\n",
        "from langchain_openai import OpenAIEmbeddings\n",
        "import os\n",
        "import json\n",
        "\n",
        "def create_vector_db():\n",
        "    # Path to save vector DB\n",
        "    vector_store_path = \"./resources/vector/index\"\n",
        "\n",
        "    # Skip creation if vector DB already exists\n",
        "    if os.path.exists(vector_store_path):\n",
        "        print(\"Vector DB already exists. Skipping creation.\")\n",
        "        return\n",
        "\n",
        "    # Load PDF file\n",
        "    loader = PyPDFLoader(\"./resources/docs/IMDG_격리규정안내서.pdf\")\n",
        "    documents = loader.load()\n",
        "\n",
        "    # Text splitting settings\n",
        "    text_splitter = RecursiveCharacterTextSplitter(\n",
        "        chunk_size=200,\n",
        "        chunk_overlap=50,\n",
        "        length_function=len,\n",
        "        is_separator_regex=False,\n",
        "    )\n",
        "\n",
        "    # Split document into chunks\n",
        "    chunks = text_splitter.split_documents(documents)\n",
        "\n",
        "    # Initialize OpenAI embeddings\n",
        "    embeddings = OpenAIEmbeddings()\n",
        "\n",
        "    # Create FAISS vector DB\n",
        "    vectorstore = FAISS.from_documents(chunks, embeddings)\n",
        "\n",
        "    # Save vector DB\n",
        "    os.makedirs(os.path.dirname(vector_store_path), exist_ok=True)\n",
        "    vectorstore.save_local(vector_store_path)\n",
        "\n",
        "    print(f\"Vector DB created and saved to {vector_store_path}\")\n",
        "\n",
        "\n",
        "def load_faiss_vector():\n",
        "    # Initialize OpenAI embeddings\n",
        "    embeddings = OpenAIEmbeddings()\n",
        "\n",
        "    # Update path to the newly created vector DB location\n",
        "    vector_store_path = \"./resources/vector/index\"\n",
        "    vectorstore = FAISS.load_local(\n",
        "        vector_store_path,\n",
        "        embeddings,\n",
        "        allow_dangerous_deserialization=True\n",
        "    )\n",
        "\n",
        "    return vectorstore.as_retriever()\n",
        "\n",
        "def load_segregation_table():\n",
        "    \"\"\"Load segregation table from JSON file\"\"\"\n",
        "    try:\n",
        "        with open(\"./resources/docs/imdg_격리표.json\", \"r\", encoding=\"utf-8\") as f:\n",
        "            return json.load(f)\n",
        "    except Exception as e:\n",
        "        print(f\"Error loading segregation table: {e}\")\n",
        "        return None\n",
        "\n",
        "\n",
        "def load_container_segregation_table():\n",
        "    \"\"\"Load container segregation requirements from JSON file\"\"\"\n",
        "    try:\n",
        "        with open(\"./resources/docs/imdg_컨테이너적재격리표.json\", \"r\", encoding=\"utf-8\") as f:\n",
        "            return json.load(f)\n",
        "    except Exception as e:\n",
        "        print(f\"Error loading container segregation table: {e}\")\n",
        "        return None\n",
        "\n",
        "\n",
        "create_vector_db()\n",
        "retriever = load_faiss_vector()\n",
        "\n",
        "segregation_table = load_segregation_table()\n",
        "container_segregation = load_container_segregation_table()"
      ]
    },
    {
      "cell_type": "markdown",
      "metadata": {
        "id": "lYLgdEfsmPVB"
      },
      "source": [
        "## STEP Context and Condition\n"
      ]
    },
    {
      "cell_type": "code",
      "execution_count": 7,
      "metadata": {
        "id": "K5ekhG-ssFqr"
      },
      "outputs": [],
      "source": [
        "Context_prompt = PromptTemplate.from_template(\"\"\"\n",
        "You are an IMDG Code expert with 20 years of experience in maritime dangerous goods regulations.\n",
        "Answer the question based on the following context and segregation information.\n",
        "\n",
        "Reference Materials:\n",
        "1. IMDG Code Context:\n",
        "{context}\n",
        "\n",
        "2. Segregation Information:\n",
        "- Segregation Table: {segregation_table}\n",
        "- Container Segregation Requirements: {container_segregation}\n",
        "\n",
        "Question:\n",
        "{user_input}\n",
        "\n",
        "## Response Guidelines:\n",
        "1. Provide a comprehensive yet concise response in Korean\n",
        "2. Base all answers strictly on IMDG Code references\n",
        "3. When necessary, refer to Reference Materials #2 (Segregation Information) including Segregation Table and Container Segregation Requirements\n",
        "4. Use clear markdown formatting\n",
        "5. Cite specific sections and pages\n",
        "6. Highlight critical information in **bold**\n",
        "\n",
        "## Response Structure:\n",
        "### 💡 Key Points\n",
        "[Provide a clear, direct answer to the question]\n",
        "\n",
        "### 📚 References\n",
        "- Document: [filename.pdf]\n",
        "- Section: [relevant sections]\n",
        "- Page: [page numbers]\n",
        "\n",
        "Remember: If the answer is not found in the context or segregation tables, please write \"I don't know...🥲\"\n",
        "\"\"\"\n",
        ")"
      ]
    },
    {
      "cell_type": "code",
      "execution_count": 8,
      "metadata": {
        "colab": {
          "base_uri": "https://localhost:8080/",
          "height": 199
        },
        "id": "Y-0tSFm3tShl",
        "outputId": "da423896-2cde-4e07-9f09-9dc92695ae5d"
      },
      "outputs": [
        {
          "name": "stderr",
          "output_type": "stream",
          "text": [
            "/var/folders/qm/s09l6qvs1nx4fx83gly57t4c0000gn/T/ipykernel_3221/3145802675.py:2: LangChainDeprecationWarning: The class `ChatOpenAI` was deprecated in LangChain 0.0.10 and will be removed in 1.0. An updated version of the class exists in the :class:`~langchain-openai package and should be used instead. To use it run `pip install -U :class:`~langchain-openai` and import as `from :class:`~langchain_openai import ChatOpenAI``.\n",
            "  llm = ChatOpenAI(model=\"gpt-4o-mini\", temperature=0)\n"
          ]
        },
        {
          "data": {
            "text/plain": [
              "'### 💡 Key Points\\n위험물은 **화재, 폭발, 화학 반응** 등으로 인한 사고를 예방하기 위해 격리해야 합니다. 격리는 서로 다른 위험물 간의 상호작용을 방지하고, 사고 발생 시 피해를 최소화하는 데 중요한 역할을 합니다. IMDG 코드에서는 위험물의 종류에 따라 적절한 격리 기준을 설정하고 있으며, 이는 안전한 운송을 보장하기 위한 필수적인 조치입니다.\\n\\n### 📚 References\\n- Document: IMDG Code\\n- Section: Segregation Requirements\\n- Page: 관련 페이지는 IMDG 코드에서 확인 필요 (구체적인 페이지 번호는 제공되지 않음)'"
            ]
          },
          "execution_count": 8,
          "metadata": {},
          "output_type": "execute_result"
        }
      ],
      "source": [
        "user_input = '위험물은 왜 격리해야되는지?'\n",
        "llm = ChatOpenAI(model=\"gpt-4o-mini\", temperature=0)\n",
        "Context_chain = Context_prompt | llm\n",
        "Context_input = {\n",
        "          \"context\": retriever,  # Document 객체 리스트 그대로 전달\n",
        "          \"user_input\": user_input,\n",
        "          \"segregation_table\": lambda _: json.dumps(segregation_table, ensure_ascii=False) if segregation_table else \"No segregation information available\",\n",
        "          \"container_segregation\": lambda _: json.dumps(container_segregation, ensure_ascii=False) if container_segregation else \"No container segregation information available\"\n",
        "      }\n",
        "response = Context_chain.invoke(Context_input)\n",
        "response.content"
      ]
    },
    {
      "cell_type": "code",
      "execution_count": 9,
      "metadata": {
        "id": "fw_0j-Aqk0ID"
      },
      "outputs": [],
      "source": [
        "def Context_node0(state):\n",
        "  print('Context_node running')\n",
        "  user_input = state['user_input']\n",
        "  llm = ChatOpenAI(model=\"gpt-4o-mini\", temperature=0)\n",
        "  Context_chain = Context_prompt | llm\n",
        "  Context_input = {\n",
        "            \"context\": retriever,  # Document 객체 리스트 그대로 전달\n",
        "            \"user_input\": user_input,\n",
        "            \"segregation_table\": lambda _: json.dumps(segregation_table, ensure_ascii=False) if segregation_table else \"No segregation information available\",\n",
        "            \"container_segregation\": lambda _: json.dumps(container_segregation, ensure_ascii=False) if container_segregation else \"No container segregation information available\"\n",
        "        }\n",
        "  response = Context_chain.invoke(Context_input)\n",
        "  result = response.content\n",
        "  print('Context_node running end')\n",
        "  return {'Context_result' : result}"
      ]
    },
    {
      "cell_type": "code",
      "execution_count": 10,
      "metadata": {
        "id": "YwP6skJ7mT4g"
      },
      "outputs": [],
      "source": [
        "def Both_situ(state):\n",
        "  token = state['token']\n",
        "  if 0 in token :\n",
        "    Ans = 'Both'\n",
        "    return 'Both'\n",
        "  else :\n",
        "    return 'Context'"
      ]
    },
    {
      "cell_type": "markdown",
      "metadata": {
        "id": "Dssn4mdLxnbu"
      },
      "source": [
        "## Step -1 . Domain Check Node"
      ]
    },
    {
      "cell_type": "markdown",
      "metadata": {
        "id": "91nLQlJkxujA"
      },
      "source": [
        "답변을 할수있는지 Chunk를 찾아보기\n",
        "RAG 사용해야함\n",
        "\n",
        "답변을 할수있다 없다를 판단해서 다음 노드를 활성화 시킴\n",
        "condtioal edge로 사용"
      ]
    },
    {
      "cell_type": "code",
      "execution_count": 11,
      "metadata": {
        "id": "bOLynCjW80kz"
      },
      "outputs": [],
      "source": [
        "Domain_check_prompt = PromptTemplate.from_template(\"\"\"\n",
        "당신은 다음 질문 {user_input}에 답변이 가능한지를 판단하는 전문가입니다.\n",
        "다음 Context :{context}\n",
        "내에서 답변을 할수있는 질문이라면 yes를 아니라면 no로 대답해주세요\n",
        "\n",
        "다음과 같은 질문들은 답변이 가능합니다\n",
        "\n",
        "Logic : UN number 또는 class를 제공해주며 격리 방법 또는 세부 격리요건에 대해 물어봅니다.\n",
        "\n",
        "Context : Logic 질문을 제외한 간단한 질의 응답입니다. Context 규정집안에있는 정보를 통해 이를 답할수있습니다\n",
        "\n",
        "Both : 두가지 모두를 물어보는 질문입니다. 격리의 질문과 격리질문을 제외한 질문이 두가지 모두있을때 선택해주세요\n",
        "\n",
        "결과는 아래 형식으로 작성해주세요:\n",
        "yes or no\n",
        "\"\"\"\n",
        ")"
      ]
    },
    {
      "cell_type": "code",
      "execution_count": 12,
      "metadata": {
        "colab": {
          "base_uri": "https://localhost:8080/",
          "height": 35
        },
        "id": "r8H_i1pa-uk3",
        "outputId": "fdb50d55-6d40-4d34-a02b-fdac20df7957"
      },
      "outputs": [
        {
          "data": {
            "text/plain": [
              "'no'"
            ]
          },
          "execution_count": 12,
          "metadata": {},
          "output_type": "execute_result"
        }
      ],
      "source": [
        "user_input = '111Un number 1234와 3323 , 3232 3가지 품목의 격리방법을 알고싶어4342'\n",
        "llm = ChatOpenAI(model=\"gpt-4o-mini\", temperature=0)\n",
        "Domain_check_chain = Domain_check_prompt | llm\n",
        "Domain_check_input = {\"context\": retriever, \"user_input\" : user_input}\n",
        "response = Domain_check_chain.invoke(Domain_check_input)\n",
        "response.content"
      ]
    },
    {
      "cell_type": "code",
      "execution_count": 13,
      "metadata": {
        "id": "bdn7Wlrh005r"
      },
      "outputs": [],
      "source": [
        "def setting_node(state):\n",
        "  print('setting running')\n",
        "  token = []\n",
        "  Context_result = 'empty'\n",
        "  segre_method_result = 'empty'\n",
        "  Contain_Segre_result = 'empty'\n",
        "  return {'token' : token, 'Context_result' : Context_result, 'segre_method_result' : segre_method_result, 'Contain_Segre_result' : Contain_Segre_result}"
      ]
    },
    {
      "cell_type": "code",
      "execution_count": 14,
      "metadata": {
        "id": "oKmSsPfWibC3"
      },
      "outputs": [],
      "source": [
        "def node0(state):\n",
        "  print('node0 running')\n",
        "  token = []\n",
        "  user_input = state['user_input']\n",
        "  llm = ChatOpenAI(model=\"gpt-4o-mini\", temperature=0)\n",
        "  Domain_check_chain = Domain_check_prompt | llm\n",
        "  Domain_check_input = {\"context\": retriever, \"user_input\" : user_input}\n",
        "  response = Domain_check_chain.invoke(Domain_check_input)\n",
        "  result = response.content\n",
        "  print ('result = ',result)\n",
        "\n",
        "  # 임시방편 코드\n",
        "  result = 'yes'\n",
        "  return result"
      ]
    },
    {
      "cell_type": "code",
      "execution_count": 15,
      "metadata": {
        "id": "TP_42R-1jsYH"
      },
      "outputs": [],
      "source": [
        "def node0_result(state):\n",
        "  Ans = 'i dont know'\n",
        "  return Ans"
      ]
    },
    {
      "cell_type": "markdown",
      "metadata": {
        "id": "O3Yk0D3kx6A-"
      },
      "source": [
        "## Step 0 Content Segre Detect"
      ]
    },
    {
      "cell_type": "markdown",
      "metadata": {
        "id": "z5xeaZeMyFdK"
      },
      "source": [
        "이 질문이 Context 질문인지, Segre인지 둘다인지\n",
        "3지선다를 진행함\n",
        "\n",
        "이에 따라서 다음 3가지 분기로 나뉘어짐"
      ]
    },
    {
      "cell_type": "code",
      "execution_count": 16,
      "metadata": {
        "id": "4Wb-sZdMWwg1"
      },
      "outputs": [],
      "source": [
        "CS_Detect_prompt = PromptTemplate.from_template(\"\"\"\n",
        "당신은 다음 질문 {user_input}에 대해 어떤 질문 유형인지 판단하는 전문가입니다.\n",
        "답은 3가지중 하나입니다.\n",
        "\n",
        "Logic : UN number 또는 class를 제공해주며 격리 방법 또는 세부 격리요건에 대해 물어봅니다.\n",
        "\n",
        "Context : Logic 질문을 제외한 간단한 질의 응답입니다. 규정집안에있는 정보를 통해 이를 답할수있습니다\n",
        "\n",
        "Both : 두가지 모두를 물어보는 질문입니다. 격리의 질문과 격리질문을 제외한 질문이 두가지 모두있을때 선택해주세요\n",
        "\n",
        "결과는 아래 형식으로 작성해주세요:\n",
        "Logic or Context or Both(str 형식으로 답변)\n",
        "\"\"\"\n",
        ")"
      ]
    },
    {
      "cell_type": "code",
      "execution_count": 17,
      "metadata": {
        "colab": {
          "base_uri": "https://localhost:8080/",
          "height": 35
        },
        "id": "giH2CRBdXfFB",
        "outputId": "6eb6c13c-1e46-4a14-a87e-dde2e4b4f687"
      },
      "outputs": [
        {
          "data": {
            "text/plain": [
              "'Logic'"
            ]
          },
          "execution_count": 17,
          "metadata": {},
          "output_type": "execute_result"
        }
      ],
      "source": [
        "user_input = '111Un number 1234와 3323 , 3232 3가지 품목의 격리방법을 알고싶어4342'\n",
        "llm = ChatOpenAI(model=\"gpt-4o-mini\", temperature=0)\n",
        "class_detect_chain = CS_Detect_prompt | llm\n",
        "class_detect_input = {\"user_input\": user_input}\n",
        "response = class_detect_chain.invoke(class_detect_input)\n",
        "response.content"
      ]
    },
    {
      "cell_type": "code",
      "execution_count": 21,
      "metadata": {
        "id": "xFLsLn6jtFK5"
      },
      "outputs": [],
      "source": [
        "def CS_Detect0(state):\n",
        "  print('CS_Detect node running')\n",
        "  user_input = state['user_input']\n",
        "  llm = ChatOpenAI(model=\"gpt-4o-mini\", temperature=0)\n",
        "  cs_detect_chain = CS_Detect_prompt | llm\n",
        "  cs_detect_input = {\"user_input\": user_input}\n",
        "  response = cs_detect_chain.invoke(cs_detect_input)\n",
        "  result = response.content\n",
        "  print('CS_ result =',result)\n",
        "  if result == 'Both':\n",
        "    tokens = state['token'] + [0]\n",
        "    return {'token' : tokens , 'CS_result' : result}\n",
        "  else :\n",
        "    print('run?')\n",
        "    return {'CS_result' : result}"
      ]
    },
    {
      "cell_type": "code",
      "execution_count": 22,
      "metadata": {
        "id": "6pfXhS8Sj2z1"
      },
      "outputs": [],
      "source": [
        "# conditional edge 분기용 함수\n",
        "def CS_Detect(state):\n",
        "  print('CS_Detect edge running')\n",
        "  CS_result = state['CS_result']\n",
        "  print(CS_result)\n",
        "  return CS_result"
      ]
    },
    {
      "cell_type": "markdown",
      "metadata": {
        "id": "hdmaZUqRgsjX"
      },
      "source": [
        "## Step1. UN number detection node"
      ]
    },
    {
      "cell_type": "code",
      "execution_count": 23,
      "metadata": {
        "id": "Ig1PpSpzIkLS"
      },
      "outputs": [],
      "source": [
        "UN_detect_prompt = PromptTemplate.from_template(\"\"\"\n",
        "당신은 다음 질문 {user_input}에 대해  UN 번호가 포함되어있는지를 판단하는 전문가입니다.\n",
        "당신의 지식은 UN 번호의 판정만으로 제한됩니다\n",
        "\n",
        "UN number는 0부터 4000사이의 정수이며 보통 0002과 같이 4자리로 표현됩니다.\n",
        "가끔 앞의 0이 생략될수도있습니다.\n",
        "\n",
        "4자리 숫자라고 모두 UN number가 아니니 문맥에 주의하시기바랍니다\n",
        "\n",
        "다음 조건을 충족해야 답변 가능합니다:\n",
        "1. 질문 내에 UN 번호가 포함되어 있어야 합니다.\n",
        "2. UN 번호가 2개 이상 존재하는지 확인해야 합니다.\n",
        "\n",
        "결과는 아래 형식으로 작성해주세요:\n",
        "- responce: 1 (포함) 또는 0 (미포함)\n",
        "- numbers: 1111,1222 (UN number를 반환)\n",
        "\n",
        "예시:\n",
        "responce: 1, numbers: 1235, 4534\n",
        "responce: 0, numbers: (빈칸)\n",
        "\n",
        "\"\"\")"
      ]
    },
    {
      "cell_type": "code",
      "execution_count": 24,
      "metadata": {
        "colab": {
          "base_uri": "https://localhost:8080/"
        },
        "id": "lNHDNj0IKAaB",
        "outputId": "777939b8-6b0f-4aae-f9c5-7f24677ad005"
      },
      "outputs": [
        {
          "data": {
            "text/plain": [
              "['1111', '1234', '3323']"
            ]
          },
          "execution_count": 24,
          "metadata": {},
          "output_type": "execute_result"
        }
      ],
      "source": [
        "user_input = '1111 Un number 1234와 3323  2가지 품목의 격리방법을 알고싶어4342'\n",
        "llm = ChatOpenAI(model=\"gpt-4o-mini\", temperature=0)\n",
        "class_detect_chain = UN_detect_prompt | llm\n",
        "class_detect_input = {\"user_input\": user_input}\n",
        "response = class_detect_chain.invoke(class_detect_input)\n",
        "content0 = response.content\n",
        "result = str2dict_parser(content0, 'numbers')\n",
        "result['numbers']"
      ]
    },
    {
      "cell_type": "code",
      "execution_count": 25,
      "metadata": {
        "id": "L3GMZd8dklT5"
      },
      "outputs": [],
      "source": [
        "def UN_detect(state):\n",
        "  user_input = state['user_input']\n",
        "  llm = ChatOpenAI(model=\"gpt-4o-mini\", temperature=0)\n",
        "  UN_detect_chain = UN_detect_prompt | llm\n",
        "  UN_detect_input = {\"user_input\": user_input}\n",
        "  response = UN_detect_chain.invoke(UN_detect_input)\n",
        "  content0 = response.content\n",
        "  result = str2dict_parser(content0, 'numbers')\n",
        "  bool_result = result['responce']\n",
        "  unnumbers = result['numbers']\n",
        "  print('UN run', unnumbers)\n",
        "  if bool_result == 0:\n",
        "      pass\n",
        "  else :\n",
        "      return {\"token\": state[\"token\"] + [1], \"unnumbers\" : unnumbers}\n"
      ]
    },
    {
      "cell_type": "markdown",
      "metadata": {
        "id": "Vtb7fpmmh77_"
      },
      "source": [
        "이제 이걸 받아와서\n",
        "- responce가 1이면 token에 1을 추가\n",
        "- token과 UN number state를 업데이트"
      ]
    },
    {
      "cell_type": "markdown",
      "metadata": {
        "id": "WPDexLNciJ89"
      },
      "source": [
        "## Step 2 [Node1] classer node"
      ]
    },
    {
      "cell_type": "markdown",
      "metadata": {
        "id": "ljBvIP68pPG5"
      },
      "source": [
        "DG_LIST 에 UN number 입력해서 class 받아오기\n"
      ]
    },
    {
      "cell_type": "code",
      "execution_count": 26,
      "metadata": {
        "colab": {
          "base_uri": "https://localhost:8080/"
        },
        "id": "XQqprVuQpaHa",
        "outputId": "fc576cd7-becc-4c02-f5d4-d4be35b17caa"
      },
      "outputs": [
        {
          "name": "stderr",
          "output_type": "stream",
          "text": [
            "WARNING:langchain_community.utils.user_agent:USER_AGENT environment variable not set, consider setting it to identify your requests.\n"
          ]
        },
        {
          "name": "stdout",
          "output_type": "stream",
          "text": [
            "Checking for index at: /content/drive/MyDrive/Aiffelthon/chul/aiffelthon_tys_imdg/tys/baseline/app/resources/vector_sample/index/index.faiss\n",
            "Vector store found: /content/drive/MyDrive/Aiffelthon/chul/aiffelthon_tys_imdg/tys/baseline/app/resources/vector_sample/index/index.faiss\n",
            "Loading existing vector store from /content/drive/MyDrive/Aiffelthon/chul/aiffelthon_tys_imdg/tys/baseline/app/resources/vector_sample/index/index.faiss\n",
            "Vector store loaded successfully.\n"
          ]
        }
      ],
      "source": [
        "from ai.demo import DG_LIST"
      ]
    },
    {
      "cell_type": "code",
      "execution_count": 27,
      "metadata": {
        "colab": {
          "base_uri": "https://localhost:8080/"
        },
        "id": "skKfwwb0r03X",
        "outputId": "1a017034-52f8-47cb-87a7-3d82b8e8802d"
      },
      "outputs": [
        {
          "name": "stdout",
          "output_type": "stream",
          "text": [
            "['3', '4.1']\n"
          ]
        }
      ],
      "source": [
        "un_numbers = ['1234', '2000']  # 입력 리스트\n",
        "\n",
        "# 모든 결과를 담을 리스트\n",
        "class_results = []\n",
        "\n",
        "# DG_LIST에서 데이터 가져오기\n",
        "dg_items = DG_LIST.get_all_un_no()\n",
        "dg_options = [(f\"{item['unNumber']} - {item['psn']}\", item[\"unNumber\"]) for item in dg_items]\n",
        "dg_labels = [label for label, _ in dg_options]\n",
        "\n",
        "# 각 un_number에 대해 처리\n",
        "for un_number in un_numbers:\n",
        "    # 해당 un_number와 일치하는 데이터 찾기\n",
        "    oid = next(item for item in dg_items if item[\"unNumber\"] == un_number)[\"id\"]\n",
        "    item = DG_LIST.find_one(oid)\n",
        "    # 클래스 결과 추가\n",
        "    class_results.append(item['class'])\n",
        "\n",
        "print(class_results)"
      ]
    },
    {
      "cell_type": "code",
      "execution_count": 28,
      "metadata": {
        "id": "yluFqDausO-z"
      },
      "outputs": [],
      "source": [
        "def get_class_results(numbers):\n",
        "    \"\"\"\n",
        "    입력: numbers (list[str]) - UN 번호 리스트\n",
        "    출력: class_results (list[str]) - 각 UN 번호의 클래스 결과 리스트\n",
        "    \"\"\"\n",
        "    # 모든 결과를 담을 리스트\n",
        "    class_results = []\n",
        "\n",
        "    # DG_LIST에서 데이터 가져오기\n",
        "    dg_items = DG_LIST.get_all_un_no()\n",
        "\n",
        "    # 각 un_number에 대해 처리\n",
        "    for un_number in numbers:\n",
        "        try:\n",
        "            # 해당 un_number와 일치하는 데이터 찾기\n",
        "            oid = next(item for item in dg_items if item[\"unNumber\"] == un_number)[\"id\"]\n",
        "            item = DG_LIST.find_one(oid)\n",
        "            # 클래스 결과 추가\n",
        "            class_results.append(item['class'])\n",
        "        except StopIteration:\n",
        "            # un_number가 dg_items에 없는 경우 처리\n",
        "            print(f\"Warning: UN number {un_number} not found.\")\n",
        "            class_results.append(None)  # 없는 경우 None 추가\n",
        "\n",
        "    return class_results"
      ]
    },
    {
      "cell_type": "code",
      "execution_count": 29,
      "metadata": {
        "id": "auCdGJonrRYf"
      },
      "outputs": [],
      "source": [
        "def node1(state):\n",
        "  print('node1 running')\n",
        "  token_1 = state[\"token\"]\n",
        "  if 1 in token_1:\n",
        "    unnumbers = state[\"unnumbers\"]\n",
        "    result = get_class_results(unnumbers)\n",
        "    print('node1 is working')\n",
        "    return {'class_list' : result}\n",
        "  else :\n",
        "    pass\n"
      ]
    },
    {
      "cell_type": "markdown",
      "metadata": {
        "id": "ftcx0pwmiQve"
      },
      "source": [
        "UN number를 받은 node는 class값을 반환\n",
        "\n",
        "class state를 업데이트"
      ]
    },
    {
      "cell_type": "markdown",
      "metadata": {
        "id": "8DNuEFzjicRU"
      },
      "source": [
        "## Step 3 class detect node"
      ]
    },
    {
      "cell_type": "code",
      "execution_count": 30,
      "metadata": {
        "id": "JSkBiUq9ig6-"
      },
      "outputs": [],
      "source": [
        "class_detect_prompt = PromptTemplate.from_template(\"\"\"\n",
        "당신은 다음 질문 {user_input}에 대해  품목에 대한 class가 포함되어있는지를 판단하는 전문가입니다.\n",
        "당신의 지식은 class 존재의 판정만으로 제한됩니다\n",
        "\n",
        "클래스는 1.1 부터 9까지로 이루어져있습니다.\n",
        "소수점은 1자리를 넘지 않습니다.\n",
        "예시 1.1 , 1.2, 1.3, 3.1, 4.1, 5.1  등\n",
        "1.1a와 같이 1번대 class는 뒤에 영단어 하나가 같이올수있습니다.\n",
        "\n",
        "다음 조건을 충족해야 답변 가능합니다:\n",
        "1. 질문 내에 class 번호가 포함되어 있어야 합니다.\n",
        "2. class가 2개 이상 존재하는지 확인해야 합니다.\n",
        "\n",
        "결과는 아래 형식으로 작성해주세요:\n",
        "- responce: 1 (포함) 또는 0 (미포함)\n",
        "- class_list : 1.1a, 4.1 (class를 반환)\n",
        "\n",
        "예시:\n",
        "responce: 1, class_list: 1.1d, 4.1\n",
        "responce: 0, class_list: (빈칸)\n",
        "\n",
        "\"\"\")"
      ]
    },
    {
      "cell_type": "code",
      "execution_count": 31,
      "metadata": {
        "colab": {
          "base_uri": "https://localhost:8080/"
        },
        "id": "UVZg--S_iox1",
        "outputId": "967ad2ef-3028-4cc6-88ff-ee8e8158449f"
      },
      "outputs": [
        {
          "name": "stdout",
          "output_type": "stream",
          "text": [
            "responce: 0, class_list: \n"
          ]
        },
        {
          "data": {
            "text/plain": [
              "['']"
            ]
          },
          "execution_count": 31,
          "metadata": {},
          "output_type": "execute_result"
        }
      ],
      "source": [
        "user_input = '위험물 UNunmber 1123와 2000의 격리 방법을 알려줘'\n",
        "llm = ChatOpenAI(model=\"gpt-4o-mini\", temperature=0)\n",
        "class_detect_chain = class_detect_prompt | llm\n",
        "class_detect_input = {\"user_input\": user_input}\n",
        "response = class_detect_chain.invoke(class_detect_input)\n",
        "print(response.content)\n",
        "result = str2dict_parser(response.content, 'class_list')\n",
        "bool_result = result['responce']\n",
        "class_list = result['class_list']\n",
        "class_list"
      ]
    },
    {
      "cell_type": "code",
      "execution_count": 32,
      "metadata": {
        "id": "wDIiurEelrKW"
      },
      "outputs": [],
      "source": [
        "def class_Detect(state):\n",
        "  print('class_Detect running')\n",
        "  user_input = state['user_input']\n",
        "  llm = ChatOpenAI(model=\"gpt-4o-mini\", temperature=0)\n",
        "  class_detect_chain = class_detect_prompt | llm\n",
        "  class_detect_input = {\"user_input\": user_input}\n",
        "  response = class_detect_chain.invoke(class_detect_input)\n",
        "  content0 = response.content\n",
        "  result = str2dict_parser(content0, 'class_list')\n",
        "  bool_result = result['responce']\n",
        "  class_list = result['class_list']\n",
        "  if bool_result == 0:\n",
        "      pass\n",
        "  else :\n",
        "      return {\"class_list\" : class_list}"
      ]
    },
    {
      "cell_type": "markdown",
      "metadata": {
        "id": "Q7zjhovKjZMB"
      },
      "source": [
        "여기서는 이제\n",
        "답변한 부분에 대해서\n",
        "\n",
        "responce가 1이라면\n",
        "class state만 업데이트\n",
        "\n",
        "responce가 0이라면 다음으로 넘어가기"
      ]
    },
    {
      "cell_type": "markdown",
      "metadata": {
        "id": "q5qBT0tMkC9y"
      },
      "source": [
        "## STEP 4 Segre detection"
      ]
    },
    {
      "cell_type": "code",
      "execution_count": 33,
      "metadata": {
        "id": "CLQYizEmkGJs"
      },
      "outputs": [],
      "source": [
        "segre_detect_prompt = PromptTemplate.from_template(\"\"\"\n",
        "당신은 다음 질문 {user_input}에 대해  격리 방법을 요청하고있는지를 판단하는 전문가입니다.\n",
        "당신의 지식은 격리방법 요청의 판정만으로 제한됩니다\n",
        "\n",
        "격리 방법을 요청하는 예시는 다음과 같습니다.\n",
        "격리방법을 직설적으로 요청함\n",
        "두개의 품목을 같은 컨테이너에 적재가 가능한지 질문함\n",
        "등의 상황이있습니다.\n",
        "질문을 보고 격리방법을 요청하는지를 판단해주세요\n",
        "\n",
        "결과는 아래 형식으로 작성해주세요:\n",
        "responce: 1 (요청함) 또는 0 (요청안함)\n",
        "why : 격리 단어때문에 요청했다고 판단함\n",
        "\n",
        "예시:\n",
        "responce: 1, why: 같은 컨테이너에 품목을 넣는것에 대한 질문임\n",
        "responce: 0, why: 없음\n",
        "\n",
        "\"\"\")"
      ]
    },
    {
      "cell_type": "code",
      "execution_count": 34,
      "metadata": {
        "colab": {
          "base_uri": "https://localhost:8080/"
        },
        "id": "tX7LTUIukI30",
        "outputId": "634ec384-f3a7-4e42-91cd-be7518c19656"
      },
      "outputs": [
        {
          "name": "stdout",
          "output_type": "stream",
          "text": [
            "responce: 1, why: 두 품목의 격리 방법을 요청하고 있으며, 밀폐형과 개방형의 차이를 언급하고 있기 때문임.\n"
          ]
        }
      ],
      "source": [
        "user_input = '111a1 Class 1.1a와 3.1 2가지 품목의 격리방법을 알고싶어 각각 밀폐형과 개방형이고 수직으로 쌓으려해'\n",
        "llm = ChatOpenAI(model=\"gpt-4o-mini\", temperature=0)\n",
        "class_detect_chain = segre_detect_prompt | llm\n",
        "class_detect_input = {\"user_input\": user_input}\n",
        "response = class_detect_chain.invoke(class_detect_input)\n",
        "content0 = response.content\n",
        "print(content0)\n",
        "result = str2dict_parser(content0, 'why')\n",
        "bool_result = result['responce']"
      ]
    },
    {
      "cell_type": "code",
      "execution_count": 35,
      "metadata": {
        "id": "pbuxr0nMUsnj"
      },
      "outputs": [],
      "source": [
        "def segre_Detect(state):\n",
        "  print('segre_Detect running')\n",
        "  user_input = state['user_input']\n",
        "  llm = ChatOpenAI(model=\"gpt-4o-mini\", temperature=0)\n",
        "  segre_detect_chain = segre_detect_prompt | llm\n",
        "  segre_detect_input = {\"user_input\": user_input}\n",
        "  response = segre_detect_chain.invoke(segre_detect_input)\n",
        "  content0 = response.content\n",
        "  result = str2dict_parser(content0, 'why')\n",
        "  bool_result = result['responce']\n",
        "  if bool_result == 0:\n",
        "      pass\n",
        "  else :\n",
        "      return {\"token\": state[\"token\"] + [2]}"
      ]
    },
    {
      "cell_type": "markdown",
      "metadata": {
        "id": "InegktYUlHup"
      },
      "source": [
        "여기서는\n",
        "\n",
        "responce가 1이라면\n",
        "token에 2를 추가함\n",
        "\n",
        "token state를 반환"
      ]
    },
    {
      "cell_type": "markdown",
      "metadata": {
        "id": "PJhEUX4jlUbW"
      },
      "source": [
        "## Step 5 [Node2] segre_method"
      ]
    },
    {
      "cell_type": "code",
      "execution_count": 36,
      "metadata": {
        "id": "zWtWsOUZmd3k"
      },
      "outputs": [],
      "source": [
        "from segre_search import segre_matrix, get_segregation_value\n"
      ]
    },
    {
      "cell_type": "code",
      "execution_count": 37,
      "metadata": {
        "colab": {
          "base_uri": "https://localhost:8080/",
          "height": 35
        },
        "id": "R-dGQ51Qm6PQ",
        "outputId": "86686e3b-40d3-4915-8468-fddd8ac10175"
      },
      "outputs": [
        {
          "data": {
            "application/vnd.google.colaboratory.intrinsic+json": {
              "type": "string"
            },
            "text/plain": [
              "'4'"
            ]
          },
          "execution_count": 37,
          "metadata": {},
          "output_type": "execute_result"
        }
      ],
      "source": [
        "get_segregation_value(segre_matrix, ['1.1a','None'], ['3','None'])"
      ]
    },
    {
      "cell_type": "code",
      "execution_count": 38,
      "metadata": {
        "id": "fQ4mpvTQpPfS"
      },
      "outputs": [],
      "source": [
        "segregation_descriptions = {\n",
        "    \"1\": {\"name\": \"분리적재 (Away from)\", \"details\": [\"최소 3m 이상의 수평거리 유지\", \"갑판상부/하부 적재 가능\", \"동일 구획에 적재 가능하나 물리적 분리 필요\"]},\n",
        "    \"2\": {\"name\": \"격리적재 (Separated from)\", \"details\": [\"서로 다른 격실이나 화물창에 적재\", \"갑판상부 적재 시 최소 6m 이상 수평거리 유지\", \"수직방향 격리 시 수밀 격벽 필요\"]},\n",
        "    \"3\": {\"name\": \"1구획실 또는 1화물창 격리적재\", \"details\": [\"최소 1개의 완전한 구획실이나 화물창으로 분리\", \"수평방향으로 최소 12m 이상 거리 유지\", \"수직방향 격리 불가\"]},\n",
        "    \"4\": {\"name\": \"1구획실 또는 1화물창 종방향 격리적재\", \"details\": [\"최소 24m의 수평거리 유지\", \"중간에 완전한 구획실이나 화물창 필요\", \"가장 엄격한 격리 요건\"]},\n",
        "    \"X\": {\"name\": \"특정 격리규정 확인\", \"details\": [\"특정 격리규정을 확인하기 위하여 위험물 목록(DGL)을 참고할 것\"]},\n",
        "    \"*\": {\"name\": \"제1급 물질 간 격리규정\", \"details\": [\"제1급 물질 상호 간의 격리규정에 관하여 제7.2.7.1항을 참조할 것\", \" 선적 계획 시 제1급 물질의 경우 등급 정보만으로는 부족\", \"혼적 그룹 정보를 확인하여 계획 수립 필요\", \"필요시 위험물 전문가의 자문을 구하는 것이 안전\"]},\n",
        "}\n"
      ]
    },
    {
      "cell_type": "code",
      "execution_count": 39,
      "metadata": {
        "colab": {
          "base_uri": "https://localhost:8080/"
        },
        "id": "rwPgWTxhpl8z",
        "outputId": "c38c92fc-2ddc-4e23-b5c3-f923b3d2804d"
      },
      "outputs": [
        {
          "data": {
            "text/plain": [
              "{'name': '분리적재 (Away from)',\n",
              " 'details': ['최소 3m 이상의 수평거리 유지', '갑판상부/하부 적재 가능', '동일 구획에 적재 가능하나 물리적 분리 필요']}"
            ]
          },
          "execution_count": 39,
          "metadata": {},
          "output_type": "execute_result"
        }
      ],
      "source": [
        "segregation_descriptions.get('1')"
      ]
    },
    {
      "cell_type": "code",
      "execution_count": 40,
      "metadata": {
        "id": "nUtpPBIxVpcC"
      },
      "outputs": [],
      "source": [
        "def node2(state):\n",
        "  print('node2 running')\n",
        "  token_2 = state[\"token\"]\n",
        "\n",
        "  if 2 in token_2:\n",
        "    class_list = state[\"class_list\"]\n",
        "    print('node2 is working')\n",
        "    print(class_list[0])\n",
        "    print(class_list[1])\n",
        "    class_input1 = [class_list[0],'None']\n",
        "    class_input2 = [class_list[1],'None']\n",
        "    segre_method_num = get_segregation_value(segre_matrix, class_input1, class_input2)\n",
        "    Node2_result = segregation_descriptions.get(segre_method_num)\n",
        "    # state - 정수 형태로 method number 저장\n",
        "    return {'segre_method_result' : Node2_result, 'segre_method_num' : segre_method_num}\n",
        "  else :\n",
        "    pass"
      ]
    },
    {
      "cell_type": "markdown",
      "metadata": {
        "id": "f-gD8bLtljfz"
      },
      "source": [
        "input : class state 2개\n",
        "\n",
        "output : segre method 반환\n",
        "\n",
        "**graph**\n",
        "segre_method_result state 업데이트"
      ]
    },
    {
      "cell_type": "markdown",
      "metadata": {
        "id": "e8YJYqzYm8vb"
      },
      "source": [
        "## Step 6 Cont_detection"
      ]
    },
    {
      "cell_type": "markdown",
      "metadata": {
        "id": "FB1gdTpno4fz"
      },
      "source": [
        "이부분의 성능이 애매함\n",
        "위에서 답변한 segre method를 입력값으로 받아야겠다\n",
        "\n",
        "성능이 잘안나오는구만 이부분이"
      ]
    },
    {
      "cell_type": "code",
      "execution_count": 41,
      "metadata": {
        "id": "8Nl5rCGtm8iT"
      },
      "outputs": [],
      "source": [
        "Cont_detect_prompt = PromptTemplate.from_template(\"\"\"\n",
        "당신은 다음 질문 {user_input}에 대해 컨테이너의 옵션에 따른 세부 격리요건을 필요로하는지를 판단하는 전문가입니다.\n",
        "당신의 지식은세부 격리요건 답변의 필요성의 판정만으로 제한됩니다\n",
        "\n",
        "유저의 질문이 다음 답변 : {segre_method_result} 이 답변으로 충분하지 않고 세부 격리 요건을 원한다면 판정을 해야합니다\n",
        "\n",
        "세부 격리요건은 간단한 격리요건을 요구하는것이 아닌\n",
        "2개의 컨테이너의 상태에 따른 세부 격리요건을 요구하는 질문이 들어올수있습니다.\n",
        "\n",
        "밀폐형 또는 개방형 컨테이너에 대한 세부요건\n",
        "컨테이너를 수직 또는 수평으로 적재할때의 세부요건\n",
        "컨테이너를 갑판 상부 또는 하부에 적재할때의 세부요건\n",
        "등에 대해서 물어볼수있습니다.\n",
        "\n",
        "결과는 아래 형식으로 작성해주세요:\n",
        "- responce: 1 (요청함) 또는 0 (요청안함)\n",
        "- Why : 컨테이너의 조건을 상세히 요청했기에 세부요건을 원한다고 판단함\n",
        "\n",
        "예시:\n",
        "responce: 1, why: 밀페형 컨테이너에 품목을 넣는것에 대한 질문임\n",
        "responce: 0, why: 없음\n",
        "\n",
        "\"\"\")"
      ]
    },
    {
      "cell_type": "code",
      "execution_count": 42,
      "metadata": {
        "colab": {
          "base_uri": "https://localhost:8080/",
          "height": 53
        },
        "id": "PIjtb9bsoRdP",
        "outputId": "5469ee65-d6ec-4a2e-e8ed-ded1e65e193b"
      },
      "outputs": [
        {
          "data": {
            "application/vnd.google.colaboratory.intrinsic+json": {
              "type": "string"
            },
            "text/plain": [
              "'responce: 1, why: 컨테이너의 상태에 따른 세부 격리요건을 요구했기에 세부요건을 원한다고 판단함'"
            ]
          },
          "execution_count": 42,
          "metadata": {},
          "output_type": "execute_result"
        }
      ],
      "source": [
        "user_input = '111a1 Class 1.1a와 3.1 , 4.3 3가지 품목의 격리방법을 알고싶어 434d2'\n",
        "segre_method_result = '격리방법 4번 이 격리방법은 가장 엄격한 격리 방법이며 최고등급의 격리를 요구함'\n",
        "\n",
        "llm = ChatOpenAI(model=\"gpt-4o-mini\", temperature=0)\n",
        "class_detect_chain = Cont_detect_prompt | llm\n",
        "class_detect_input = {\"user_input\": user_input, 'segre_method_result' : segre_method_result}\n",
        "response = class_detect_chain.invoke(class_detect_input)\n",
        "response.content"
      ]
    },
    {
      "cell_type": "code",
      "execution_count": 43,
      "metadata": {
        "id": "WP6y2E2CVyuT"
      },
      "outputs": [],
      "source": [
        "def Cont_Detect(state):\n",
        "  print('Cont_Detect running')\n",
        "  user_input = state['user_input']\n",
        "  segre_method_result = state['segre_method_result']\n",
        "  llm = ChatOpenAI(model=\"gpt-4o-mini\", temperature=0)\n",
        "  Cont_detect_chain = Cont_detect_prompt | llm\n",
        "  Cont_detect_input = {\"user_input\": user_input, 'segre_method_result' : segre_method_result}\n",
        "  response = Cont_detect_chain.invoke(Cont_detect_input)\n",
        "  content0 = response.content\n",
        "  result = str2dict_parser(content0, 'why')\n",
        "  bool_result = result['responce']\n",
        "  if bool_result == 0:\n",
        "      pass\n",
        "  else :\n",
        "      return {\"token\": state[\"token\"] + [3]}"
      ]
    },
    {
      "cell_type": "markdown",
      "metadata": {
        "id": "EhRhsn2cl-n8"
      },
      "source": [
        "## Step 7 Cont_Opt detection"
      ]
    },
    {
      "cell_type": "markdown",
      "metadata": {
        "id": "IEBsmluxp4ae"
      },
      "source": [
        "input : token\n",
        "\n",
        "token = 3일때 코드가 돌아감\n",
        "\n",
        "output = 3가지 옵션에 대한 답"
      ]
    },
    {
      "cell_type": "code",
      "execution_count": 79,
      "metadata": {
        "id": "Rfr0zAcmmq-P"
      },
      "outputs": [],
      "source": [
        "Cont_Opt_detect_prompt = PromptTemplate.from_template(\"\"\"\n",
        "당신은 다음 질문 {user_input}에 대해  컨테이너 옵션이 포함되어있는지를 판단하는 전문가입니다.\n",
        "당신의 지식은 컨테이너 옵션의 판정만으로 제한됩니다\n",
        "\n",
        "컨테이너 옵션은 다음과 같이 3개에 대해서 판단합니다.\n",
        "만약 옵션을 말하지 않았다면 ALL을 선택하면됩니다\n",
        "컨테이너 조건을 받지않았다면 ALL로 반환해주세요\n",
        "filter_type : \"All\", \"Vertical(수직)\", \"Horizontal(수평)\"\n",
        "deck_position : \"All\", \"onDeck(갑판 상부)\", \"underDeck(갑판 하부)\"\n",
        "\n",
        "타입은 4가지중에서 하나를 선택해야합니다.\n",
        "closed = 밀폐형, open = 개방형\n",
        "두가지를 탐색후 4가지 조건중 하나를 골라야합니다\n",
        "segregation_filter : \"All\", \"closedToClosed\", \"closedToOpen\", \"openToOpen\"\n",
        "closedToClosed = 밀폐형에 밀폐형\n",
        "closedToOpen = 밀폐형과 개방형\n",
        "openToOpen = 개방형과 개방형\n",
        "\n",
        "\n",
        "결과는 아래 형식으로 작성해주세요:\n",
        "ex1)\n",
        "segregation_filter = 'All'\n",
        "filter_type = 'All'\n",
        "deck_position = 'All'\n",
        "\n",
        "ex2)\n",
        "segregation_filter = 'closedToClosed'\n",
        "filter_type = 'All'\n",
        "deck_position = 'onDeck'\n",
        "\n",
        "ex3)\n",
        "segregation_filter = 'closedToOpen'\n",
        "filter_type = 'Vertical'\n",
        "deck_position = 'underDeck'\n",
        "\n",
        "\n",
        "\"\"\")"
      ]
    },
    {
      "cell_type": "code",
      "execution_count": 83,
      "metadata": {
        "colab": {
          "base_uri": "https://localhost:8080/",
          "height": 53
        },
        "id": "eIRNT6VhunSS",
        "outputId": "37536914-9ea6-4914-a548-586134be075f"
      },
      "outputs": [
        {
          "data": {
            "application/vnd.google.colaboratory.intrinsic+json": {
              "type": "string"
            },
            "text/plain": [
              "\"segregation_filter = 'closedToOpen'  \\nfilter_type = 'Vertical'  \\ndeck_position = 'All'  \""
            ]
          },
          "execution_count": 83,
          "metadata": {},
          "output_type": "execute_result"
        }
      ],
      "source": [
        "user_input = '111a1 Class 1.1a와 3.1 2가지 품목의 격리방법을 알고싶어 각각 밀폐형과 개방형이고 수직으로 쌓으려해'\n",
        "llm = ChatOpenAI(model=\"gpt-4o-mini\", temperature=0)\n",
        "class_detect_chain = Cont_Opt_detect_prompt | llm\n",
        "class_detect_input = {\"user_input\": user_input}\n",
        "response = class_detect_chain.invoke(class_detect_input)\n",
        "response.content"
      ]
    },
    {
      "cell_type": "code",
      "execution_count": 86,
      "metadata": {
        "colab": {
          "base_uri": "https://localhost:8080/"
        },
        "id": "HwDHlhAE1hm9",
        "outputId": "0d720101-991b-4a76-e3f2-eade070e6dc0"
      },
      "outputs": [
        {
          "name": "stdout",
          "output_type": "stream",
          "text": [
            "closedToOpen\n",
            "Vertical\n",
            "All\n"
          ]
        }
      ],
      "source": [
        "parsed = parse_variables(response.content)\n",
        "segregation_filter = parsed[\"segregation_filter\"]\n",
        "filter_type = parsed[\"filter_type\"]\n",
        "deck_position = parsed[\"deck_position\"]\n",
        "\n",
        "print(segregation_filter)\n",
        "print(filter_type)\n",
        "print(deck_position)"
      ]
    },
    {
      "cell_type": "code",
      "execution_count": 87,
      "metadata": {
        "id": "zj7NKfCXWfp2"
      },
      "outputs": [],
      "source": [
        "def Cont_Opt_detect(state):\n",
        "  print('Cont_Opt_detect running')\n",
        "  token_3 = state[\"token\"]\n",
        "  if 3 in token_3:\n",
        "    user_input = state['user_input']\n",
        "    llm = ChatOpenAI(model=\"gpt-4o-mini\", temperature=0)\n",
        "    Cont_Opt_detect_chain = Cont_Opt_detect_prompt | llm\n",
        "    Cont_Opt_detect_input = {\"user_input\": user_input, 'segre_method_result' : segre_method_result}\n",
        "    response = Cont_Opt_detect_chain.invoke(Cont_Opt_detect_input)\n",
        "    content0 = response.content\n",
        "    # result = str2dict_parser(content0, 'why')\n",
        "    # bool_result = result['responce']\n",
        "\n",
        "    Cont_Opt = content0\n",
        "    return {'Cont_Opt' : Cont_Opt}\n",
        "  else :\n",
        "    pass"
      ]
    },
    {
      "cell_type": "markdown",
      "metadata": {
        "id": "vVvwBTdXxVne"
      },
      "source": [
        "여기서 받은 컨테이너 옵션\n",
        "\n",
        "Cont_Opt state를 업데이트"
      ]
    },
    {
      "cell_type": "markdown",
      "metadata": {
        "id": "iIvk0AthxJAL"
      },
      "source": [
        "## Step 8 [Node3] Contain_Segre"
      ]
    },
    {
      "cell_type": "code",
      "execution_count": 18,
      "metadata": {
        "id": "k5a7Y8sVuUqJ"
      },
      "outputs": [],
      "source": [
        "def load_container_segregation_matrix():\n",
        "    try:\n",
        "        with open(\"./resources/docs/imdg_컨테이너적재격리표.json\", \"r\", encoding=\"utf-8\") as f:\n",
        "            return json.load(f)[\"segregationMatrix\"]\n",
        "    except Exception as e:\n",
        "        print(f\"Error loading container segregation matrix: {e}\")\n",
        "        return None\n",
        "\n",
        "segregation_matrix = load_container_segregation_matrix()"
      ]
    },
    {
      "cell_type": "code",
      "execution_count": 19,
      "metadata": {
        "colab": {
          "base_uri": "https://localhost:8080/"
        },
        "id": "cImRgKWCudtA",
        "outputId": "a6a0245d-d459-4ba0-86e1-b8f5c1a47323"
      },
      "outputs": [
        {
          "name": "stdout",
          "output_type": "stream",
          "text": [
            "{'segregationType': '분리적재', 'segregationCode': 1, 'vertical': {'closedToClosed': {'allowance': '하나 위에 다른 하나 허용'}, 'closedToOpen': {'allowance': '밀폐형 위에 개방형 허용'}, 'openToOpen': {'allowance': '갑판에 의하여 격리되지 아니하는 한, 동일 수직선상 금지'}}, 'horizontal': {'onDeck': {'closedToClosed': {'fore_aft': '제한 없음', 'athwartships': '제한 없음'}, 'closedToOpen': {'fore_aft': '제한 없음', 'athwartships': '제한 없음'}, 'openToOpen': {'fore_aft': '1컨테이너 구역', 'athwartships': '1컨테이너 구역'}}, 'underDeck': {'closedToClosed': {'fore_aft': '제한 없음', 'athwartships': '제한 없음'}, 'closedToOpen': {'fore_aft': '제한 없음', 'athwartships': '제한 없음'}, 'openToOpen': {'fore_aft': '1컨테이너 구역 또는 1격벽', 'athwartships': '1컨테이너 구역'}}}}\n"
          ]
        }
      ],
      "source": [
        "for requirement in segregation_matrix[\"requirements\"]:\n",
        "  if requirement['segregationCode'] == 1:\n",
        "    print(requirement)"
      ]
    },
    {
      "cell_type": "code",
      "execution_count": null,
      "metadata": {
        "id": "fMSJpUJIuYYf"
      },
      "outputs": [],
      "source": [
        "segregation_matrix[\"requirements\"]"
      ]
    },
    {
      "cell_type": "code",
      "execution_count": 20,
      "metadata": {
        "id": "w7_ami_7xey4"
      },
      "outputs": [],
      "source": [
        "segregation_code = '4'\n",
        "segregation_filter = 'closedToOpen'\n",
        "filter_type = 'All'\n",
        "deck_position = 'All'"
      ]
    },
    {
      "cell_type": "code",
      "execution_count": 21,
      "metadata": {
        "colab": {
          "base_uri": "https://localhost:8080/",
          "height": 89
        },
        "id": "hRAnjsA_xeBp",
        "outputId": "2f96a7e9-e009-4332-9365-15283c69cad3"
      },
      "outputs": [
        {
          "data": {
            "text/plain": [
              "'### 격리 요건:\\n#### 수직 요건 (Vertical)\\n- closedToOpen: 금지\\n\\n#### 수평 요건 (Horizontal)\\n##### onDeck:\\n- closedToOpen:\\n  - fore_aft: 24m의 최소 수평거리\\n  - athwartships: 금지\\n##### underDeck:\\n- closedToOpen:\\n  - fore_aft: 2격벽\\n  - athwartships: 금지\\n\\n'"
            ]
          },
          "execution_count": 21,
          "metadata": {},
          "output_type": "execute_result"
        }
      ],
      "source": [
        "def Cont_result_fnc(segregation_code, segregation_filter,filter_type, deck_position):\n",
        "  report = ''\n",
        "  if segregation_matrix:\n",
        "    report += \"### 격리 요건:\\n\"\n",
        "    for requirement in segregation_matrix[\"requirements\"]:\n",
        "        if str(requirement[\"segregationCode\"]) == segregation_code:\n",
        "            # 수직 요건 출력 (Vertical)\n",
        "            if filter_type in [\"All\", \"Vertical\"]:\n",
        "                report += \"#### 수직 요건 (Vertical)\\n\"\n",
        "                vertical = requirement.get(\"vertical\", {})\n",
        "                for key, value in vertical.items():\n",
        "                    if segregation_filter == \"All\" or key == segregation_filter:\n",
        "                        report += f\"- {key}: {value['allowance']}\\n\"\n",
        "\n",
        "            # 수평 요건 출력 (Horizontal)\n",
        "            if filter_type in [\"All\", \"Horizontal\"]:\n",
        "                report += \"\\n#### 수평 요건 (Horizontal)\\n\"\n",
        "                horizontal = requirement.get(\"horizontal\", {})\n",
        "                for deck_key, deck_value in horizontal.items():\n",
        "                    # deck_position 필터 적용\n",
        "                    if deck_position == \"All\" or deck_key == deck_position:\n",
        "                        report += f\"##### {deck_key}:\\n\"\n",
        "                        for pair_key, pair_value in deck_value.items():\n",
        "                            if segregation_filter == \"All\" or pair_key == segregation_filter:\n",
        "                                report += f\"- {pair_key}:\\n\"\n",
        "                                if isinstance(pair_value, dict):\n",
        "                                    for sub_key, sub_value in pair_value.items():\n",
        "                                        if isinstance(sub_value, dict) and 'content' in sub_value:\n",
        "                                            report += f\"  - {sub_key}: {sub_value['content']}\\n\"\n",
        "                                            if 'footnote' in sub_value:\n",
        "                                                report += f\"    - 주석: {sub_value['footnote']}\\n\"\n",
        "                                        else:\n",
        "                                            report += f\"  - {sub_key}: {sub_value}\\n\"\n",
        "                                else:\n",
        "                                    report += f\"  - {pair_value}\\n\"\n",
        "            report += \"\\n\"\n",
        "  return report\n",
        "\n",
        "Cont_result_fnc(segregation_code, segregation_filter,filter_type, deck_position)"
      ]
    },
    {
      "cell_type": "code",
      "execution_count": 91,
      "metadata": {
        "id": "esfnIv_U08ml"
      },
      "outputs": [],
      "source": [
        "def parse_variables(input_string):\n",
        "    \"\"\"\n",
        "    주어진 문자열을 파싱하여 변수로 반환\n",
        "    \"\"\"\n",
        "    variables = {}\n",
        "    lines = input_string.strip().split(\"\\n\")\n",
        "    for line in lines:\n",
        "        key, value = line.split(\"=\", 1)\n",
        "        variables[key.strip()] = value.strip().strip(\"'\")\n",
        "    return variables\n",
        "\n"
      ]
    },
    {
      "cell_type": "markdown",
      "metadata": {
        "id": "soapqXauxSLv"
      },
      "source": [
        "input token , Segre Method, Cont_Opt 을 받음\n",
        "\n",
        "Contain_Segre_result state 업데이트"
      ]
    },
    {
      "cell_type": "code",
      "execution_count": 98,
      "metadata": {
        "id": "i4J3HabVXicP"
      },
      "outputs": [],
      "source": [
        "def node3(state):\n",
        "  print('node3 running')\n",
        "  token_3 = state[\"token\"]\n",
        "  # Segre_method\n",
        "  if 3 in token_3:\n",
        "    # 받아오기\n",
        "    Cont_Opt = state[\"Cont_Opt\"]\n",
        "    segre_method_num = state[\"segre_method_num\"]\n",
        "\n",
        "    if segre_method_num == 'X' or segre_method_num == '*':\n",
        "      Node3_result = 'empty'\n",
        "    else :\n",
        "      segre_method_num = int(segre_method_num)\n",
        "      # 파싱해서 각 변수에 할당\n",
        "      parsed = parse_variables(Cont_Opt)\n",
        "      segregation_filter = parsed[\"segregation_filter\"]\n",
        "      filter_type = parsed[\"filter_type\"]\n",
        "      deck_position = parsed[\"deck_position\"]\n",
        "      Node3_result = Cont_result_fnc(segre_method_num, segregation_filter,filter_type, deck_position)\n",
        "    print('node3 is working')\n",
        "    return {'Contain_Segre_result' : Node3_result}\n",
        "  else :\n",
        "    pass"
      ]
    },
    {
      "cell_type": "markdown",
      "metadata": {
        "id": "uaKw5PRs3KgI"
      },
      "source": [
        "## final_node"
      ]
    },
    {
      "cell_type": "code",
      "execution_count": 48,
      "metadata": {
        "id": "TGPm-D6i4pmB"
      },
      "outputs": [],
      "source": [
        "final_prompt = PromptTemplate.from_template(\"\"\"\n",
        "당신은 다음 질문 {user_input}에대해 답변을 해야합니다\n",
        "\n",
        "다음 content 만을 활용해서 답변해주세요\n",
        "\n",
        "{Context_result}\n",
        "{segre_method_result}\n",
        "{Contain_Segre_result}\n",
        "\n",
        "답변은 위 content에 있는 내용을 바탕으로만 진행해야합니다.\n",
        "\n",
        "질문의 내용과 무관하거나 content 외의 답변을 하지마세요\n",
        "\n",
        "\"\"\")"
      ]
    },
    {
      "cell_type": "code",
      "execution_count": 49,
      "metadata": {
        "id": "463zTXQU3KP5"
      },
      "outputs": [],
      "source": [
        "def final_node(state):\n",
        "  user_input = state['user_input']\n",
        "  Context_result = state['Context_result']\n",
        "  segre_method_result = state['segre_method_result']\n",
        "  Contain_Segre_result = state['Contain_Segre_result']\n",
        "\n",
        "  llm = ChatOpenAI(model=\"gpt-4o-mini\", temperature=0)\n",
        "  final_chain = final_prompt | llm\n",
        "  final_input = {\n",
        "            \"user_input\": user_input,\n",
        "            \"Context_result\": Context_result,\n",
        "            \"segre_method_result\": segre_method_result,\n",
        "            \"Contain_Segre_result\": Contain_Segre_result\n",
        "\n",
        "        }\n",
        "  response = final_chain.invoke(final_input)\n",
        "  result = response.content\n",
        "  return {'final_result' : result}"
      ]
    },
    {
      "cell_type": "markdown",
      "metadata": {
        "id": "Mvog2cqkZ32n"
      },
      "source": [
        "## Concat Graph"
      ]
    },
    {
      "cell_type": "code",
      "execution_count": 99,
      "metadata": {
        "id": "cE6QG64KZ7xZ"
      },
      "outputs": [],
      "source": [
        "from typing import TypedDict\n",
        "from langgraph.graph import StateGraph, START, END\n",
        "\n",
        "## state 정의\n",
        "class MyState(TypedDict):\n",
        "    user_input: str\n",
        "    Context_result : str\n",
        "    CS_result : str\n",
        "    token : list[int]\n",
        "    unnumbers : list[str]\n",
        "    class_list : list[str]\n",
        "    segre_method_num : str\n",
        "    segre_method_result : str\n",
        "    Cont_Opt : str\n",
        "    Contain_Segre_result : str\n",
        "    graph_log : list[str]\n",
        "    final_result : str\n",
        "    domain_result : str\n",
        "\n",
        "\n",
        "## 그래프 생성\n",
        "graph = StateGraph(MyState)\n",
        "\n",
        "## 노드 추가\n",
        "graph.add_node(\"setting_node\", setting_node)\n",
        "graph.add_node(\"Context_node0\", Context_node0)\n",
        "graph.add_node(\"node0_result\", node0_result)\n",
        "graph.add_node(\"CS_Detect0\", CS_Detect0)\n",
        "graph.add_node(\"CS_Detect\", CS_Detect)\n",
        "graph.add_node(\"UN_detect\", UN_detect)\n",
        "graph.add_node(\"node1\", node1)\n",
        "graph.add_node(\"class_Detect\", class_Detect)\n",
        "graph.add_node(\"segre_Detect\", segre_Detect)\n",
        "graph.add_node(\"node2\", node2)\n",
        "graph.add_node(\"Cont_Detect\", Cont_Detect)\n",
        "graph.add_node(\"Cont_Opt_detect\", Cont_Opt_detect)\n",
        "graph.add_node(\"node3\", node3)\n",
        "graph.add_node(\"final_node\", final_node)\n",
        "\n",
        "## 엣지 추가\n",
        "graph.add_edge(START, \"setting_node\")\n",
        "\n",
        "graph.add_conditional_edges(\n",
        "    'setting_node',\n",
        "    node0,\n",
        "    {\n",
        "        \"yes\": \"CS_Detect0\",\n",
        "        \"no\": 'final_node'\n",
        "    }\n",
        ")\n",
        "\n",
        "graph.add_conditional_edges(\n",
        "    \"CS_Detect0\",\n",
        "    CS_Detect,\n",
        "    {\n",
        "        \"Context\": \"Context_node0\",\n",
        "        \"Logic\": \"UN_detect\",\n",
        "        \"Both\": \"Context_node0\",\n",
        "        \"default\": END\n",
        "    }\n",
        ")\n",
        "\n",
        "graph.add_conditional_edges(\n",
        "    \"Context_node0\",\n",
        "    Both_situ,\n",
        "    {\n",
        "        \"Both\": \"UN_detect\",\n",
        "        \"Context\": 'final_node'\n",
        "    }\n",
        ")\n",
        "\n",
        "graph.add_edge('UN_detect', \"node1\")\n",
        "graph.add_edge('node1', \"class_Detect\")\n",
        "graph.add_edge('class_Detect', \"segre_Detect\")\n",
        "graph.add_edge('segre_Detect', \"node2\")\n",
        "graph.add_edge('node2', \"Cont_Detect\")\n",
        "graph.add_edge('Cont_Detect', \"Cont_Opt_detect\")\n",
        "graph.add_edge('Cont_Opt_detect', \"node3\")\n",
        "graph.add_edge('node3', 'final_node')\n",
        "graph.add_edge('final_node', END)\n",
        "graph = graph.compile()\n"
      ]
    },
    {
      "cell_type": "code",
      "execution_count": 51,
      "metadata": {
        "colab": {
          "base_uri": "https://localhost:8080/",
          "height": 1000
        },
        "collapsed": true,
        "id": "OzCcsRIBi2M-",
        "outputId": "890461ca-21b0-42ee-8e6a-ca0998cc2578"
      },
      "outputs": [
        {
          "data": {
            "image/png": "[encoded data removed]",
            "text/plain": [
              "<IPython.core.display.Image object>"
            ]
          },
          "metadata": {},
          "output_type": "display_data"
        }
      ],
      "source": [
        "from langchain_teddynote.graphs import visualize_graph\n",
        "\n",
        "visualize_graph(graph)"
      ]
    },
    {
      "cell_type": "markdown",
      "metadata": {
        "id": "7eUn8YVenU2Q"
      },
      "source": [
        "## run graph"
      ]
    },
    {
      "cell_type": "code",
      "execution_count": 103,
      "metadata": {
        "colab": {
          "base_uri": "https://localhost:8080/"
        },
        "id": "N1d109Ti61pz",
        "outputId": "da75e976-dc8e-4f95-a8c2-551e90994809"
      },
      "outputs": [
        {
          "name": "stdout",
          "output_type": "stream",
          "text": [
            "setting running\n",
            "node0 running\n",
            "result =  yes\n",
            "CS_Detect node running\n",
            "CS_ result = Context\n",
            "run?\n",
            "CS_Detect edge running\n",
            "Context\n",
            "Context_node running\n",
            "Context_node running end\n"
          ]
        },
        {
          "data": {
            "text/plain": [
              "{'user_input': '위험물 격리의 필요성에 대해서 말해줘',\n",
              " 'Context_result': '### 💡 Key Points\\n위험물 격리는 해상 운송 중 안전을 보장하기 위해 필수적입니다. 위험물은 서로 다른 성질을 가지고 있으며, 이로 인해 특정 물질들이 함께 저장될 경우 화재, 폭발, 화학 반응 등의 위험이 증가할 수 있습니다. IMDG 코드에서는 이러한 위험을 최소화하기 위해 **격리 요구사항**을 명시하고 있습니다. 예를 들어, 서로 반응할 수 있는 물질들은 반드시 분리하여 저장해야 하며, 이는 사고 발생 시 피해를 줄이는 데 중요한 역할을 합니다.\\n\\n### 📚 References\\n- Document: IMDG Code\\n- Section: Segregation Requirements\\n- Page: [해당 페이지 번호는 제공되지 않았습니다]',\n",
              " 'CS_result': 'Context',\n",
              " 'token': [],\n",
              " 'segre_method_result': 'empty',\n",
              " 'Contain_Segre_result': 'empty',\n",
              " 'final_result': '위험물 격리는 해상 운송 중 안전을 보장하기 위해 필수적입니다. 위험물은 서로 다른 성질을 가지고 있으며, 이로 인해 특정 물질들이 함께 저장될 경우 화재, 폭발, 화학 반응 등의 위험이 증가할 수 있습니다. IMDG 코드에서는 이러한 위험을 최소화하기 위해 격리 요구사항을 명시하고 있습니다. 예를 들어, 서로 반응할 수 있는 물질들은 반드시 분리하여 저장해야 하며, 이는 사고 발생 시 피해를 줄이는 데 중요한 역할을 합니다.'}"
            ]
          },
          "execution_count": 103,
          "metadata": {},
          "output_type": "execute_result"
        }
      ],
      "source": [
        "graph.invoke({'user_input' : '위험물 격리의 필요성에 대해서 말해줘'})"
      ]
    },
    {
      "cell_type": "code",
      "execution_count": 104,
      "metadata": {
        "colab": {
          "base_uri": "https://localhost:8080/"
        },
        "id": "TlFe8GiyqtE-",
        "outputId": "c4f20e27-b2c9-40ab-bd96-bbc5cc808199"
      },
      "outputs": [
        {
          "name": "stdout",
          "output_type": "stream",
          "text": [
            "setting running\n",
            "node0 running\n",
            "result =  yes\n",
            "CS_Detect node running\n",
            "CS_ result = Both\n",
            "CS_Detect edge running\n",
            "Both\n",
            "Context_node running\n",
            "Context_node running end\n",
            "UN run ['1123', '2000']\n",
            "node1 running\n",
            "node1 is working\n",
            "class_Detect running\n",
            "segre_Detect running\n",
            "node2 running\n",
            "node2 is working\n",
            "3\n",
            "4.1\n",
            "Cont_Detect running\n",
            "Cont_Opt_detect running\n",
            "node3 running\n",
            "node3 is working\n"
          ]
        },
        {
          "data": {
            "text/plain": [
              "{'user_input': '위험물 UNunmber 1123와 2000의 격리 방법을 알려줘',\n",
              " 'Context_result': '### 💡 Key Points\\n위험물 UN번호 1123(아세톤)와 UN번호 2000(가연성 가스)의 격리 방법은 다음과 같습니다:\\n\\n- **UN 1123 (아세톤)**: 이 물질은 **가연성**이며, 다른 가연성 물질과의 격리는 필수입니다. 아세톤은 산화제와의 격리도 필요합니다.\\n- **UN 2000 (가연성 가스)**: 이 물질은 **가연성**이며, 산화제 및 산성 물질과의 격리가 필요합니다.\\n\\n따라서, 두 물질은 서로 **격리**되어야 하며, 특히 **가연성 물질**과의 접촉을 피해야 합니다. \\n\\n### 📚 References\\n- Document: IMDG Code\\n- Section: Segregation Table\\n- Page: 해당 페이지는 IMDG Code에서 확인 필요\\n\\n위의 정보는 IMDG Code의 격리 요구 사항에 기반하여 제공되었습니다.',\n",
              " 'CS_result': 'Both',\n",
              " 'token': [0, 1, 2, 3],\n",
              " 'unnumbers': ['1123', '2000'],\n",
              " 'class_list': ['3', '4.1'],\n",
              " 'segre_method_num': 'X',\n",
              " 'segre_method_result': {'name': '특정 격리규정 확인',\n",
              "  'details': ['특정 격리규정을 확인하기 위하여 위험물 목록(DGL)을 참고할 것']},\n",
              " 'Cont_Opt': \"segregation_filter = 'All'  \\nfilter_type = 'All'  \\ndeck_position = 'All'  \",\n",
              " 'Contain_Segre_result': 'empty',\n",
              " 'final_result': '위험물 UN번호 1123(아세톤)와 UN번호 2000(가연성 가스)의 격리 방법은 다음과 같습니다:\\n\\n- **UN 1123 (아세톤)**: 이 물질은 **가연성**이며, 다른 가연성 물질과의 격리는 필수입니다. 아세톤은 산화제와의 격리도 필요합니다.\\n- **UN 2000 (가연성 가스)**: 이 물질은 **가연성**이며, 산화제 및 산성 물질과의 격리가 필요합니다.\\n\\n따라서, 두 물질은 서로 **격리**되어야 하며, 특히 **가연성 물질**과의 접촉을 피해야 합니다. \\n\\n위의 정보는 IMDG Code의 격리 요구 사항에 기반하여 제공되었습니다.'}"
            ]
          },
          "execution_count": 104,
          "metadata": {},
          "output_type": "execute_result"
        }
      ],
      "source": [
        "graph.invoke({'user_input' : '위험물 UNunmber 1123와 2000의 격리 방법을 알려줘'})"
      ]
    },
    {
      "cell_type": "code",
      "execution_count": 100,
      "metadata": {
        "colab": {
          "base_uri": "https://localhost:8080/"
        },
        "id": "XIfyaCJwnXQd",
        "outputId": "3ac89db9-75b6-4a63-c40f-428b0670695d"
      },
      "outputs": [
        {
          "name": "stdout",
          "output_type": "stream",
          "text": [
            "setting running\n",
            "node0 running\n",
            "result =  no\n",
            "CS_Detect node running\n",
            "CS_ result = Logic\n",
            "run?\n",
            "CS_Detect edge running\n",
            "Logic\n",
            "UN run ['(빈칸)']\n",
            "node1 running\n",
            "class_Detect running\n",
            "segre_Detect running\n",
            "node2 running\n",
            "node2 is working\n",
            "1.1a\n",
            "3\n",
            "Cont_Detect running\n",
            "Cont_Opt_detect running\n",
            "node3 running\n",
            "node3 is working\n"
          ]
        },
        {
          "data": {
            "text/plain": [
              "{'user_input': '111a1 Class 1.1a와 3 2가지 품목의 격리방법을 알고싶어 closed to open이고 수직으로 쌓으려해',\n",
              " 'Context_result': 'empty',\n",
              " 'CS_result': 'Logic',\n",
              " 'token': [2, 3],\n",
              " 'class_list': ['1.1a', '3'],\n",
              " 'segre_method_num': '4',\n",
              " 'segre_method_result': {'name': '1구획실 또는 1화물창 종방향 격리적재',\n",
              "  'details': ['최소 24m의 수평거리 유지', '중간에 완전한 구획실이나 화물창 필요', '가장 엄격한 격리 요건']},\n",
              " 'Cont_Opt': \"segregation_filter = 'closedToOpen'  \\nfilter_type = 'Vertical'  \\ndeck_position = 'All'  \",\n",
              " 'Contain_Segre_result': '### 격리 요건:\\n#### 수직 요건 (Vertical)\\n- closedToOpen: 개방형 대 개방형과 동일\\n\\n',\n",
              " 'final_result': '1구획실 또는 1화물창 종방향 격리적재의 경우, closed to open 방식으로 수직으로 쌓을 때는 다음과 같은 격리 요건을 준수해야 합니다:\\n\\n- 최소 24m의 수평거리를 유지해야 합니다.\\n- 중간에 완전한 구획실이나 화물창이 필요합니다.\\n- 가장 엄격한 격리 요건이 적용됩니다.\\n\\n수직 요건에 대해서는 closedToOpen 방식이 개방형 대 개방형과 동일하다는 점을 유의해야 합니다.'}"
            ]
          },
          "execution_count": 100,
          "metadata": {},
          "output_type": "execute_result"
        }
      ],
      "source": [
        "graph.invoke({'user_input' : '111a1 Class 1.1a와 3 2가지 품목의 격리방법을 알고싶어 closed to open이고 수직으로 쌓으려해'})"
      ]
    },
    {
      "cell_type": "markdown",
      "metadata": {
        "id": "aa7Wj0-AiRKY"
      },
      "source": [
        "# 연습장"
      ]
    },
    {
      "cell_type": "markdown",
      "metadata": {
        "id": "Oce7VT6evoJe"
      },
      "source": [
        "## 격리표 제작"
      ]
    },
    {
      "cell_type": "code",
      "execution_count": null,
      "metadata": {
        "colab": {
          "base_uri": "https://localhost:8080/"
        },
        "id": "5mAqTA-rpbXS",
        "outputId": "2c8fd63e-f93f-4314-e611-af0dd714a891"
      },
      "outputs": [
        {
          "name": "stdout",
          "output_type": "stream",
          "text": [
            "Segregation value for 1.1 and 1.2: *\n"
          ]
        }
      ],
      "source": [
        "!python segre_search.py"
      ]
    },
    {
      "cell_type": "code",
      "execution_count": null,
      "metadata": {
        "colab": {
          "base_uri": "https://localhost:8080/"
        },
        "id": "MAx31zIP0Fzg",
        "outputId": "9696d39c-a005-414c-ec0f-d30b109fa208"
      },
      "outputs": [
        {
          "name": "stdout",
          "output_type": "stream",
          "text": [
            "<class 'str'>\n",
            "격리방법은 : X\n"
          ]
        }
      ],
      "source": [
        "from segre_search import segre_matrix, get_segregation_value\n",
        "\n",
        "# Example usage\n",
        "class1 = ['1.4G', None]\n",
        "class2 = ['9', None]\n",
        "\n",
        "# Retrieve the segregation value\n",
        "result = get_segregation_value(segre_matrix, class1, class2)\n",
        "\n",
        "# Output the result\n",
        "print(type(result)) # '*', '4', 'X'\n",
        "print(f\"격리방법은 : {result}\")"
      ]
    },
    {
      "cell_type": "code",
      "execution_count": null,
      "metadata": {
        "colab": {
          "base_uri": "https://localhost:8080/"
        },
        "id": "g58UikK7UG9g",
        "outputId": "72289017-4437-4074-acaa-15567dde1318"
      },
      "outputs": [
        {
          "name": "stdout",
          "output_type": "stream",
          "text": [
            "Traceback (most recent call last):\n",
            "  File \"/content/drive/MyDrive/Aiffelthon/chul/aiffelthon_tys_imdg/tys/baseline/app/test_graph2.py\", line 78, in <module>\n",
            "    state = graph.run_node(\"decide\", initial_state)\n",
            "AttributeError: 'StateGraph' object has no attribute 'run_node'. Did you mean: 'add_node'?\n"
          ]
        }
      ],
      "source": [
        "!python test_graph2.py"
      ]
    },
    {
      "cell_type": "markdown",
      "metadata": {
        "id": "m5-YV1cVjzth"
      },
      "source": [
        "## Class 추출 문제"
      ]
    },
    {
      "cell_type": "code",
      "execution_count": null,
      "metadata": {
        "colab": {
          "base_uri": "https://localhost:8080/"
        },
        "id": "iQ4A47pVj17j",
        "outputId": "4f40a65b-6b50-49ef-cff1-0661ee373e24"
      },
      "outputs": [
        {
          "name": "stderr",
          "output_type": "stream",
          "text": [
            "WARNING:langchain_community.utils.user_agent:USER_AGENT environment variable not set, consider setting it to identify your requests.\n"
          ]
        },
        {
          "name": "stdout",
          "output_type": "stream",
          "text": [
            "Checking for index at: /content/drive/MyDrive/Aiffelthon/chul/aiffelthon_tys_imdg/tys/baseline/app/resources/vector_sample/index/index.faiss\n",
            "Vector store found: /content/drive/MyDrive/Aiffelthon/chul/aiffelthon_tys_imdg/tys/baseline/app/resources/vector_sample/index/index.faiss\n",
            "Loading existing vector store from /content/drive/MyDrive/Aiffelthon/chul/aiffelthon_tys_imdg/tys/baseline/app/resources/vector_sample/index/index.faiss\n",
            "Vector store loaded successfully.\n"
          ]
        }
      ],
      "source": [
        "from ai.demo import DG_LIST"
      ]
    },
    {
      "cell_type": "code",
      "execution_count": null,
      "metadata": {
        "id": "p3A3UIHij5PA"
      },
      "outputs": [],
      "source": [
        "# 이미 UNnumber와 품목명만 가지고 오게 전처리가 되어있다\n",
        "dg_items = DG_LIST.get_all_un_no()\n",
        "# 옵션은\n",
        "dg_options = [(f\"{item['unNumber']} - {item['psn']}\", item[\"unNumber\"]) for item in dg_items]\n",
        "dg_labels = [label for label, _ in dg_options]"
      ]
    },
    {
      "cell_type": "code",
      "execution_count": null,
      "metadata": {
        "id": "UYNDZOo5mR8G"
      },
      "outputs": [],
      "source": [
        "selected_label = dg_labels[1]"
      ]
    },
    {
      "cell_type": "code",
      "execution_count": null,
      "metadata": {
        "colab": {
          "base_uri": "https://localhost:8080/"
        },
        "id": "_Lz64uSSm-2W",
        "outputId": "78b23744-f1c7-4fc8-ac79-8cf2a97ebad4"
      },
      "outputs": [
        {
          "data": {
            "text/plain": [
              "<generator object <genexpr> at 0x7d72126f3530>"
            ]
          },
          "execution_count": 24,
          "metadata": {},
          "output_type": "execute_result"
        }
      ],
      "source": [
        "un_number_1 = (value for label, value in dg_options if selected_label == label)\n",
        "un_number_1"
      ]
    },
    {
      "cell_type": "code",
      "execution_count": null,
      "metadata": {
        "colab": {
          "base_uri": "https://localhost:8080/",
          "height": 35
        },
        "id": "d2lwev-mmbBz",
        "outputId": "4329740f-c2a1-4d3b-a246-b08c1bc1e1a4"
      },
      "outputs": [
        {
          "data": {
            "application/vnd.google.colaboratory.intrinsic+json": {
              "type": "string"
            },
            "text/plain": [
              "'0005'"
            ]
          },
          "execution_count": 25,
          "metadata": {},
          "output_type": "execute_result"
        }
      ],
      "source": [
        "un_number_1 = next(value for label, value in dg_options if selected_label == label)\n",
        "un_number_1"
      ]
    },
    {
      "cell_type": "code",
      "execution_count": null,
      "metadata": {
        "colab": {
          "base_uri": "https://localhost:8080/"
        },
        "id": "9dql58i4n2gd",
        "outputId": "6a9d72c7-1818-4702-b327-5ed9b674763d"
      },
      "outputs": [
        {
          "data": {
            "text/plain": [
              "{'id': '677b874ffecea5f2b07dc5ec',\n",
              " 'unNumber': '0005',\n",
              " 'psn': '병기용 완성탄(작약이 들어있는 것)'}"
            ]
          },
          "execution_count": 30,
          "metadata": {},
          "output_type": "execute_result"
        }
      ],
      "source": [
        "oid_0 = next(item for item in dg_items if item[\"unNumber\"] == un_number_1)\n",
        "oid_0"
      ]
    },
    {
      "cell_type": "code",
      "execution_count": null,
      "metadata": {
        "colab": {
          "base_uri": "https://localhost:8080/",
          "height": 35
        },
        "id": "Mp4ecooim9fp",
        "outputId": "a8ec875a-007d-4f91-d5a8-c3d17ae8963d"
      },
      "outputs": [
        {
          "data": {
            "application/vnd.google.colaboratory.intrinsic+json": {
              "type": "string"
            },
            "text/plain": [
              "'677b874ffecea5f2b07dc5ec'"
            ]
          },
          "execution_count": 27,
          "metadata": {},
          "output_type": "execute_result"
        }
      ],
      "source": [
        "oid_1 = next(item for item in dg_items if item[\"unNumber\"] == un_number_1)[\"id\"]\n",
        "oid_1"
      ]
    },
    {
      "cell_type": "code",
      "execution_count": null,
      "metadata": {
        "colab": {
          "base_uri": "https://localhost:8080/"
        },
        "id": "pdEJdcTYniMD",
        "outputId": "76c31a9d-ce4e-4c90-be2c-051f8e6864b1"
      },
      "outputs": [
        {
          "data": {
            "text/plain": [
              "{'unNumber': '0005',\n",
              " 'properShippingName': {'ko': '병기용 완성탄(작약이 들어있는 것)',\n",
              "  'en': 'CARTRIDGES FOR WEAPONS with bursting charge'},\n",
              " 'class': '1.1F',\n",
              " 'subsidiaryRisk': None,\n",
              " 'packingGroup': None,\n",
              " 'specialProvisions': None,\n",
              " 'limitedQuantities': '0',\n",
              " 'exceptedQuantities': 'E0',\n",
              " 'packing': {'instruction': 'P130\\nLP101', 'provisions': None},\n",
              " 'ibc': {'instruction': None, 'provisions': None},\n",
              " 'portableTanks': {'instruction': None, 'provisions': None},\n",
              " 'ems': {'fire': 'F-B', 'spillage': 'S-X'},\n",
              " 'stowageHandling': '적재방법 03.\\nSW1',\n",
              " 'segregation': None,\n",
              " 'propertiesCautions': '부록 B의 용어 해설을 참조할 것.'}"
            ]
          },
          "execution_count": 29,
          "metadata": {},
          "output_type": "execute_result"
        }
      ],
      "source": [
        "item_1 = DG_LIST.find_one(oid_1)\n",
        "item_1"
      ]
    },
    {
      "cell_type": "code",
      "execution_count": null,
      "metadata": {
        "id": "5tM2aNjZpiM7"
      },
      "outputs": [],
      "source": [
        "good1_class = []"
      ]
    },
    {
      "cell_type": "code",
      "execution_count": null,
      "metadata": {
        "id": "VWwT_b4rpjnx"
      },
      "outputs": [],
      "source": [
        "good1_class.append(item_1['class'])\n",
        "good1_class.append(item_1.get('subsidiaryRisk', '-'))"
      ]
    },
    {
      "cell_type": "code",
      "execution_count": null,
      "metadata": {
        "colab": {
          "base_uri": "https://localhost:8080/"
        },
        "id": "Q2y0kABSpm6Q",
        "outputId": "4817b21e-e060-4115-8f1e-b4afed759c23"
      },
      "outputs": [
        {
          "data": {
            "text/plain": [
              "['1.1F', None]"
            ]
          },
          "execution_count": 40,
          "metadata": {},
          "output_type": "execute_result"
        }
      ],
      "source": [
        "good1_class"
      ]
    },
    {
      "cell_type": "code",
      "execution_count": null,
      "metadata": {
        "colab": {
          "base_uri": "https://localhost:8080/",
          "height": 35
        },
        "id": "MXQ_xKMfpVPt",
        "outputId": "193bf67b-23fa-4731-d421-d3fa1ee1b70c"
      },
      "outputs": [
        {
          "data": {
            "application/vnd.google.colaboratory.intrinsic+json": {
              "type": "string"
            },
            "text/plain": [
              "'1.1F'"
            ]
          },
          "execution_count": 31,
          "metadata": {},
          "output_type": "execute_result"
        }
      ],
      "source": [
        "item_1['class']"
      ]
    },
    {
      "cell_type": "code",
      "execution_count": null,
      "metadata": {
        "colab": {
          "base_uri": "https://localhost:8080/"
        },
        "id": "c1N0UqnupZY7",
        "outputId": "5da76890-2e1f-43a0-d89a-b164e9d7dc4b"
      },
      "outputs": [
        {
          "name": "stdout",
          "output_type": "stream",
          "text": [
            "None\n"
          ]
        }
      ],
      "source": [
        "print(item_1['subsidiaryRisk'])"
      ]
    },
    {
      "cell_type": "code",
      "execution_count": null,
      "metadata": {
        "colab": {
          "base_uri": "https://localhost:8080/"
        },
        "id": "jYt1vfkMpY5f",
        "outputId": "2a105229-f76b-466b-81ed-86e22d816344"
      },
      "outputs": [
        {
          "name": "stdout",
          "output_type": "stream",
          "text": [
            "None\n"
          ]
        }
      ],
      "source": [
        "print(item_1.get('subsidiaryRisk', '-'))"
      ]
    },
    {
      "cell_type": "markdown",
      "metadata": {
        "id": "LBprLW_AnXLg"
      },
      "source": [
        "## stream lit 사용"
      ]
    },
    {
      "cell_type": "code",
      "execution_count": null,
      "metadata": {
        "colab": {
          "base_uri": "https://localhost:8080/"
        },
        "id": "GkpdOaPAlDjG",
        "outputId": "0fd2e12c-db53-4456-de9d-e5e3f0b076c3"
      },
      "outputs": [
        {
          "name": "stdout",
          "output_type": "stream",
          "text": [
            "Authtoken saved to configuration file: /root/.config/ngrok/ngrok.yml\n"
          ]
        }
      ],
      "source": [
        "!ngrok config add-authtoken 2ZqtCc5YdpVlQ8L4xTsEUfhCmtt_dqaC9SPiqCt2MjDGhYJx"
      ]
    },
    {
      "cell_type": "code",
      "execution_count": null,
      "metadata": {
        "colab": {
          "base_uri": "https://localhost:8080/"
        },
        "id": "ZU7PiM7Uk2bG",
        "outputId": "0d8f583b-b313-43ac-f1f5-e3c926c4b0f2"
      },
      "outputs": [
        {
          "name": "stdout",
          "output_type": "stream",
          "text": [
            "Public URL: NgrokTunnel: \"https://4e9d-35-185-78-94.ngrok-free.app\" -> \"http://localhost:8502\"\n"
          ]
        }
      ],
      "source": [
        "from pyngrok import ngrok\n",
        "import threading\n",
        "import os\n",
        "\n",
        "# ngrok을 사용해 터널링 설정\n",
        "public_url = ngrok.connect(8502)\n",
        "print(f\"Public URL: {public_url}\")\n",
        "\n",
        "# Streamlit 실행 함수 정의\n",
        "def run_streamlit():\n",
        "    os.system(\"streamlit run demo_test.py\")\n",
        "\n",
        "# Streamlit을 별도 스레드에서 실행\n",
        "thread = threading.Thread(target=run_streamlit)\n",
        "thread.start()"
      ]
    },
    {
      "cell_type": "code",
      "execution_count": null,
      "metadata": {
        "colab": {
          "base_uri": "https://localhost:8080/"
        },
        "id": "_aYGEFaXYAMq",
        "outputId": "89884d76-a615-4096-a9f5-42de56085325"
      },
      "outputs": [
        {
          "name": "stdout",
          "output_type": "stream",
          "text": [
            "['/content', '/env/python', '/usr/lib/python310.zip', '/usr/lib/python3.10', '/usr/lib/python3.10/lib-dynload', '', '/usr/local/lib/python3.10/dist-packages', '/usr/lib/python3/dist-packages', '/usr/local/lib/python3.10/dist-packages/IPython/extensions', '/usr/local/lib/python3.10/dist-packages/setuptools/_vendor', '/root/.ipython', '/content/drive/MyDrive/Aiffelthon/chul/aiffelthon_tys_imdg/tys']\n",
            "['/content', '/env/python', '/usr/lib/python310.zip', '/usr/lib/python3.10', '/usr/lib/python3.10/lib-dynload', '', '/usr/local/lib/python3.10/dist-packages', '/usr/lib/python3/dist-packages', '/usr/local/lib/python3.10/dist-packages/IPython/extensions', '/usr/local/lib/python3.10/dist-packages/setuptools/_vendor', '/root/.ipython', '/content/drive/MyDrive/Aiffelthon/chul/aiffelthon_tys_imdg/tys', '/content/drive/MyDrive/Aiffelthon/chul/aiffelthon_tys_imdg/tys']\n"
          ]
        }
      ],
      "source": [
        "import sys\n",
        "print(sys.path)\n",
        "\n",
        "print(sys.path)"
      ]
    },
    {
      "cell_type": "markdown",
      "metadata": {
        "id": "N6dHSHUpa-5A"
      },
      "source": [
        "# Graph 연습장"
      ]
    },
    {
      "cell_type": "markdown",
      "metadata": {
        "id": "5v1EPtGonav-"
      },
      "source": [
        "## Lang Graph 연습장"
      ]
    },
    {
      "cell_type": "code",
      "execution_count": null,
      "metadata": {
        "id": "br_LgImhnj8c"
      },
      "outputs": [],
      "source": [
        "from dotenv import load_dotenv\n",
        "from langchain.chat_models import ChatOpenAI\n",
        "\n",
        "# .env 파일에서 환경 변수 로드\n",
        "load_dotenv()\n",
        "\n",
        "# GPT-4o-mini 설정\n",
        "gpt4o_mini = ChatOpenAI(\n",
        "    model_name=\"gpt-4o-mini\",  # GPT-4o-mini에 해당하는 모델명\n",
        "    temperature=0.7,\n",
        "    max_tokens=150,\n",
        ")"
      ]
    },
    {
      "cell_type": "code",
      "execution_count": null,
      "metadata": {
        "colab": {
          "base_uri": "https://localhost:8080/"
        },
        "id": "-WJK6PDQqiNO",
        "outputId": "d3f37c56-0a2a-4cda-ee86-73e0321df11b"
      },
      "outputs": [
        {
          "name": "stdout",
          "output_type": "stream",
          "text": [
            "{'counter': 1}\n"
          ]
        }
      ],
      "source": [
        "from langgraph.graph import StateGraph, START, END\n",
        "from typing import TypedDict\n",
        "\n",
        "# 그래프의 상태를 정의하는 클래스\n",
        "class MyState(TypedDict):\n",
        "    counter: int\n",
        "\n",
        "# StateGraph 인스턴스 생성\n",
        "graph = StateGraph(MyState)\n",
        "\n",
        "# 카운터를 증가시키는 노드 함수 정의\n",
        "def increment(state):\n",
        "    return {\"counter\": state[\"counter\"] + 1}\n",
        "\n",
        "# 'increment' 노드 추가\n",
        "graph.add_node(\"increment\", increment)\n",
        "\n",
        "# START에서 'increment' 노드로 엣지 추가\n",
        "graph.add_edge(START, \"increment\")\n",
        "\n",
        "# 'increment' 노드에서 END로 엣지 추가\n",
        "graph.add_edge(\"increment\", END)\n",
        "\n",
        "# 그래프 컴파일\n",
        "app = graph.compile()\n",
        "\n",
        "# 그래프 실행\n",
        "result = app.invoke({\"counter\": 0})\n",
        "print(result)"
      ]
    },
    {
      "cell_type": "code",
      "execution_count": null,
      "metadata": {
        "colab": {
          "base_uri": "https://localhost:8080/"
        },
        "id": "IUTp1F23ndk1",
        "outputId": "661d0cf7-51be-4d33-90cf-98b17c12e55e"
      },
      "outputs": [
        {
          "name": "stdout",
          "output_type": "stream",
          "text": [
            "Hello! I'm just a computer program, so I don't have feelings, but I'm here and ready to help you. How can I assist you today?\n"
          ]
        }
      ],
      "source": [
        "from langchain.schema import HumanMessage\n",
        "\n",
        "# GPT-4o-mini 사용\n",
        "response_mini = gpt4o_mini.invoke([HumanMessage(content=\"Hello, how are you?\")])\n",
        "print(response_mini.content)"
      ]
    },
    {
      "cell_type": "code",
      "execution_count": null,
      "metadata": {
        "colab": {
          "base_uri": "https://localhost:8080/",
          "height": 54
        },
        "id": "E3xG3EGLIFkP",
        "outputId": "9c902467-a86a-4539-ebc3-35b99475fd34"
      },
      "outputs": [
        {
          "data": {
            "application/vnd.google.colaboratory.intrinsic+json": {
              "type": "string"
            },
            "text/plain": [
              "\"Hello! I'm just a computer program, so I don't have feelings, but I'm here and ready to help you. How can I assist you today?\""
            ]
          },
          "execution_count": 8,
          "metadata": {},
          "output_type": "execute_result"
        }
      ],
      "source": [
        "response = gpt4o_mini.invoke([\"Hello, how are you?\"])\n",
        "response.content"
      ]
    },
    {
      "cell_type": "code",
      "execution_count": null,
      "metadata": {
        "id": "CnT7pSnXMh1J"
      },
      "outputs": [],
      "source": [
        "from langchain_core.prompts import PromptTemplate"
      ]
    },
    {
      "cell_type": "code",
      "execution_count": null,
      "metadata": {
        "id": "qnL2loUZXkDa"
      },
      "outputs": [],
      "source": [
        "from langchain_core.prompts import PromptTemplate\n",
        "\n",
        "class_detect_prompt = PromptTemplate.from_template(\"\"\"\n",
        "당신은 다음 질문 {user_input}에 대해 격리 질문, 일반 질문이 포함되어있는지 판단하는 전문가입니다.\n",
        "\n",
        "답변은 항상3가지로 나뉩니다. 일반질문, 격리질문,\n",
        "\n",
        "N number는 0부터 4000사이의 정수이며 보통 0002과 같이 4자리로 표현됩니다.\n",
        "가끔 앞의 0이 생략될수도있습니다.\n",
        "\n",
        "다음 조건을 충족해야 답변 가능합니다:\n",
        "1. 질문 내에 UN 번호가 포함되어 있어야 합니다.\n",
        "2. UN 번호가 2개 이상 존재하는지 확인해야 합니다.\n",
        "\n",
        "결과는 아래 형식으로 작성해주세요:\n",
        "- responce: 1 (포함) 또는 0 (미포함)\n",
        "- why: 포함된 이유를 간결히 설명\n",
        "\n",
        "예시:\n",
        "- responce: 1, why: UN number라고 말한뒤 뒤에 4자리 숫자가 2개 이상 존재함 1235, 4534\n",
        "- responce: 0, why: UN 번호가 없습니다.\n",
        "\n",
        "\"\"\")"
      ]
    },
    {
      "cell_type": "code",
      "execution_count": null,
      "metadata": {
        "id": "LKyP8jehco_f"
      },
      "outputs": [],
      "source": [
        "from langchain.output_parsers import PydanticOutputParser\n",
        "\n",
        "class CaseMethod(BaseModel):\n",
        "    pick_tools: list[int] = Field(description=\"필요하다고 생각되는 툴 번호를 리스트형태로 반환\")\n",
        "    pick_reason: str = Field(description=\"각 선택한 툴에 대한 선택 이유를 간단하게 반환\")\n",
        "\n",
        "parser = PydanticOutputParser(pydantic_object=CaseMethod)\n",
        "\n",
        "case_prompt = PromptTemplate.from_template(\"\"\"\n",
        "다음 들어오는 {user_input} 값을 읽고 다음 질문에 답변하세요\n",
        "1. 다음 질문이 몇번 도구를 이용해서 답변할수있는지 판단하세요 도구는 총 1,2,3이있습니다\n",
        "2. 도구는 한가지 이상선택해야하며 2개 이상을 선택 가능합니다\n",
        "3. 선택한 도구를 list형태로 반환해주세요 예시 [1,3]\n",
        "4. 선택한 이유를 3줄이내로 간단하게 return해주세요\n",
        "\n",
        "반드시 다음 형식으로 반환하세요:\n",
        "\n",
        "{{\n",
        "    \"pick_tools\": [도구 번호를 리스트 형태로 기입],\n",
        "    \"pick_reason\": \"선택 이유를 간단히 설명\"\n",
        "}}\n",
        "\n",
        "\"\"\")"
      ]
    },
    {
      "cell_type": "code",
      "execution_count": null,
      "metadata": {
        "colab": {
          "base_uri": "https://localhost:8080/"
        },
        "id": "V9Gjzca7clT6",
        "outputId": "eea38c16-6837-4aa3-d0cf-a06462eea637"
      },
      "outputs": [
        {
          "data": {
            "text/plain": [
              "CaseMethod(pick_tools=[1, 2], pick_reason='1번 도구는 문제 값을 읽는 데 필요한 기본 정보를 제공하고, 2번 도구는 추가적인 세부사항을 분석하는 데 유용합니다. 두 도구를 함께 사용하면 보다 정확하고 포괄적인 답변을 도출할 수 있습니다.')"
            ]
          },
          "execution_count": 32,
          "metadata": {},
          "output_type": "execute_result"
        }
      ],
      "source": [
        "user_input = '1번과 2번을 사용한 문제'\n",
        "\n",
        "llm = ChatOpenAI(model=\"gpt-4o-mini\", temperature=0)\n",
        "# case_method_llm = llm.with_structured_output(CaseMethod)\n",
        "case_method_chain = case_prompt | llm | parser\n",
        "case_method_input = {\"user_input\": user_input}\n",
        "response = case_method_chain.invoke(user_input)\n",
        "response\n",
        "# print(response.content)"
      ]
    },
    {
      "cell_type": "code",
      "execution_count": null,
      "metadata": {
        "colab": {
          "base_uri": "https://localhost:8080/",
          "height": 540
        },
        "id": "sjYJddXcw1vk",
        "outputId": "00e1e274-fdcb-4265-b4b0-c706fc67a3d6"
      },
      "outputs": [
        {
          "ename": "NotImplementedError",
          "evalue": "",
          "output_type": "error",
          "traceback": [
            "\u001b[0;31m---------------------------------------------------------------------------\u001b[0m",
            "\u001b[0;31mNotImplementedError\u001b[0m                       Traceback (most recent call last)",
            "\u001b[0;32m<ipython-input-10-4b903052a402>\u001b[0m in \u001b[0;36m<cell line: 0>\u001b[0;34m()\u001b[0m\n\u001b[1;32m      3\u001b[0m \u001b[0;34m\u001b[0m\u001b[0m\n\u001b[1;32m      4\u001b[0m \u001b[0mllm\u001b[0m \u001b[0;34m=\u001b[0m \u001b[0mChatOpenAI\u001b[0m\u001b[0;34m(\u001b[0m\u001b[0mmodel\u001b[0m\u001b[0;34m=\u001b[0m\u001b[0;34m\"gpt-4o\"\u001b[0m\u001b[0;34m,\u001b[0m \u001b[0mtemperature\u001b[0m\u001b[0;34m=\u001b[0m\u001b[0;36m0\u001b[0m\u001b[0;34m)\u001b[0m\u001b[0;34m\u001b[0m\u001b[0;34m\u001b[0m\u001b[0m\n\u001b[0;32m----> 5\u001b[0;31m \u001b[0mcase_method_llm\u001b[0m \u001b[0;34m=\u001b[0m \u001b[0mllm\u001b[0m\u001b[0;34m.\u001b[0m\u001b[0mwith_structured_output\u001b[0m\u001b[0;34m(\u001b[0m\u001b[0mCaseMethod\u001b[0m\u001b[0;34m)\u001b[0m\u001b[0;34m\u001b[0m\u001b[0;34m\u001b[0m\u001b[0m\n\u001b[0m\u001b[1;32m      6\u001b[0m \u001b[0mcase_method_chain\u001b[0m \u001b[0;34m=\u001b[0m \u001b[0mcase_prompt\u001b[0m \u001b[0;34m|\u001b[0m \u001b[0mcase_method_llm\u001b[0m\u001b[0;34m\u001b[0m\u001b[0;34m\u001b[0m\u001b[0m\n\u001b[1;32m      7\u001b[0m \u001b[0mcase_method_input\u001b[0m \u001b[0;34m=\u001b[0m \u001b[0;34m{\u001b[0m\u001b[0;34m\"user_input\"\u001b[0m\u001b[0;34m:\u001b[0m \u001b[0muser_input\u001b[0m\u001b[0;34m}\u001b[0m\u001b[0;34m\u001b[0m\u001b[0;34m\u001b[0m\u001b[0m\n",
            "\u001b[0;32m/usr/local/lib/python3.11/dist-packages/langchain_core/language_models/chat_models.py\u001b[0m in \u001b[0;36mwith_structured_output\u001b[0;34m(self, schema, include_raw, **kwargs)\u001b[0m\n\u001b[1;32m   1236\u001b[0m             \u001b[0mmsg\u001b[0m \u001b[0;34m=\u001b[0m \u001b[0;34m\"with_structured_output is not implemented for this model.\"\u001b[0m\u001b[0;34m\u001b[0m\u001b[0;34m\u001b[0m\u001b[0m\n\u001b[1;32m   1237\u001b[0m             \u001b[0;32mraise\u001b[0m \u001b[0mNotImplementedError\u001b[0m\u001b[0;34m(\u001b[0m\u001b[0mmsg\u001b[0m\u001b[0;34m)\u001b[0m\u001b[0;34m\u001b[0m\u001b[0;34m\u001b[0m\u001b[0m\n\u001b[0;32m-> 1238\u001b[0;31m         \u001b[0mllm\u001b[0m \u001b[0;34m=\u001b[0m \u001b[0mself\u001b[0m\u001b[0;34m.\u001b[0m\u001b[0mbind_tools\u001b[0m\u001b[0;34m(\u001b[0m\u001b[0;34m[\u001b[0m\u001b[0mschema\u001b[0m\u001b[0;34m]\u001b[0m\u001b[0;34m,\u001b[0m \u001b[0mtool_choice\u001b[0m\u001b[0;34m=\u001b[0m\u001b[0;34m\"any\"\u001b[0m\u001b[0;34m)\u001b[0m\u001b[0;34m\u001b[0m\u001b[0;34m\u001b[0m\u001b[0m\n\u001b[0m\u001b[1;32m   1239\u001b[0m         \u001b[0;32mif\u001b[0m \u001b[0misinstance\u001b[0m\u001b[0;34m(\u001b[0m\u001b[0mschema\u001b[0m\u001b[0;34m,\u001b[0m \u001b[0mtype\u001b[0m\u001b[0;34m)\u001b[0m \u001b[0;32mand\u001b[0m \u001b[0mis_basemodel_subclass\u001b[0m\u001b[0;34m(\u001b[0m\u001b[0mschema\u001b[0m\u001b[0;34m)\u001b[0m\u001b[0;34m:\u001b[0m\u001b[0;34m\u001b[0m\u001b[0;34m\u001b[0m\u001b[0m\n\u001b[1;32m   1240\u001b[0m             output_parser: OutputParserLike = PydanticToolsParser(\n",
            "\u001b[0;32m/usr/local/lib/python3.11/dist-packages/langchain_core/language_models/chat_models.py\u001b[0m in \u001b[0;36mbind_tools\u001b[0;34m(self, tools, **kwargs)\u001b[0m\n\u001b[1;32m   1113\u001b[0m         \u001b[0;34m**\u001b[0m\u001b[0mkwargs\u001b[0m\u001b[0;34m:\u001b[0m \u001b[0mAny\u001b[0m\u001b[0;34m,\u001b[0m\u001b[0;34m\u001b[0m\u001b[0;34m\u001b[0m\u001b[0m\n\u001b[1;32m   1114\u001b[0m     ) -> Runnable[LanguageModelInput, BaseMessage]:\n\u001b[0;32m-> 1115\u001b[0;31m         \u001b[0;32mraise\u001b[0m \u001b[0mNotImplementedError\u001b[0m\u001b[0;34m\u001b[0m\u001b[0;34m\u001b[0m\u001b[0m\n\u001b[0m\u001b[1;32m   1116\u001b[0m \u001b[0;34m\u001b[0m\u001b[0m\n\u001b[1;32m   1117\u001b[0m     def with_structured_output(\n",
            "\u001b[0;31mNotImplementedError\u001b[0m: "
          ]
        }
      ],
      "source": [
        "user_input = [HumanMessage(content=\"Hello, how are you?\")]\n",
        "\n",
        "\n",
        "llm = ChatOpenAI(model=\"gpt-4o\", temperature=0)\n",
        "case_method_llm = llm.with_structured_output(CaseMethod)\n",
        "case_method_chain = case_prompt | case_method_llm\n",
        "case_method_input = {\"user_input\": user_input}\n",
        "result: CaseMethod = case_method_chain.invoke(user_input)"
      ]
    },
    {
      "cell_type": "code",
      "execution_count": null,
      "metadata": {
        "id": "_yWGkPm7kyvM"
      },
      "outputs": [],
      "source": [
        "from langgraph.graph import StateGraph, START, END\n",
        "from typing import Annotated, Any, List, TypedDict\n",
        "from pydantic import BaseModel, Field\n",
        "from dotenv import load_dotenv\n",
        "from langchain.chat_models import ChatOpenAI\n",
        "from langchain_core.prompts import PromptTemplate\n",
        "\n",
        "# .env 파일에서 환경 변수 로드\n",
        "load_dotenv()\n",
        "\n",
        "class MyState2(TypedDict):\n",
        "    user_input: str\n",
        "    counter: int\n",
        "    case0: List[int]\n",
        "    result_node1 : list[str]\n",
        "    result_node2 : list[str]\n",
        "    result_node3 : list[str]\n",
        "\n",
        "class CaseMethod(BaseModel):\n",
        "    pick_tools: str = Field(description=\"필요하다고 생각되는 툴 번호를 리스트형태로 반환\")\n",
        "    pick_reason: str = Field(description=\"각 선택한 툴에 대한 선택 이유를 2줄이내로 반환\")\n",
        "\n",
        "case_prompt = PromptTemplate.from_template(\"\"\"\n",
        "다음 들어오는 {user_input} 값을 읽고 다음 질문에 답변하세요\n",
        "1. 다음 질문이 몇번 도구를 이용해서 답변할수있는지 판단하세요 도구는 총 1,2,3이있습니다\n",
        "2. 도구는 한가지 이상선택해야하며 2개 이상을 선택 가능합니다\n",
        "3. 선택한 도구를 list형태로 반환해주세요 예시 [1,3]\n",
        "4. 선택한 이유를 3줄이내로 간단하게 return해주세요\n",
        "\n",
        "# user input :\n",
        "{user_input}\n",
        "\n",
        "Answer :\n",
        "\n",
        "\"\"\")\n",
        "\n",
        "def hc_choice_case0(state):\n",
        "    user_input = state['user_input']\n",
        "    llm = ChatOpenAI(model=\"gpt-4o\", temperature=0)\n",
        "    case_method_llm = llm.with_structured_output(CaseMethod)\n",
        "    case_method_chain = case_prompt | case_method_llm\n",
        "    case_method_input = {\"user_input\": user_input}\n",
        "    result: CaseMethod = case_method_chain.invoke(user_input)\n",
        "    pick_tools = result.pick_tools\n",
        "    print(result.pick_reason)\n",
        "    return {\"case0\": pick_tools}\n",
        "\n",
        "def hc_add_case(state):\n",
        "    return{'case0' : state['case0']+[1, 3]}\n",
        "\n",
        "def node1(state):\n",
        "    state['result_node1'].append('node1_result')\n",
        "    print('node1 is run')\n",
        "    return {\"result_node1\": 'node1_result'}\n",
        "\n",
        "def node2(state):\n",
        "    state['result_node2'].append('node2_result')\n",
        "    print('node2 is run')\n",
        "    return {\"result_node2\": 'node2_result'}\n",
        "\n",
        "def node3(state):\n",
        "    state['result_node3'].append('node3_result')\n",
        "    print('node3 is run')\n",
        "    return {\"result_node3\": 'node3_result'}\n",
        "\n",
        "def e0(state):\n",
        "    # 'result' : state['result'].append('node3_result')\n",
        "    print('node_e is run')\n",
        "    return state\n",
        "\n",
        "graph = StateGraph(MyState2)\n",
        "\n",
        "graph.add_node('case', hc_choice_case0)\n",
        "graph.add_node('N1', node1)\n",
        "graph.add_node('N2', node2)\n",
        "graph.add_node('N3', node3)\n",
        "\n",
        "graph.add_node(\"e\", e0)\n",
        "\n",
        "# START에서 'case' 노드로 엣지 추가\n",
        "graph.add_edge(START, \"case\")\n",
        "\n",
        "\n",
        "def route_bc_or_cd(state: MyState2) -> list[int]:\n",
        "    if state[\"case0\"] == [1,3]:\n",
        "        return ['N3', 'N1']\n",
        "    return ['N2', 'N1']\n",
        "\n",
        "intermediates = ['N1', 'N2', 'N3']\n",
        "\n",
        "graph.add_conditional_edges(\n",
        "    \"case\",\n",
        "    route_bc_or_cd,\n",
        "    intermediates\n",
        ")\n",
        "\n",
        "for node in intermediates:\n",
        "    graph.add_edge(node, \"e\")\n",
        "\n",
        "\n",
        "# 최종 노드 연결 및 그래프 컴파일\n",
        "graph.add_edge(\"e\", END)\n",
        "graph0 = graph.compile()"
      ]
    },
    {
      "cell_type": "code",
      "execution_count": null,
      "metadata": {
        "colab": {
          "base_uri": "https://localhost:8080/",
          "height": 449
        },
        "id": "cOmRIRchrWZh",
        "outputId": "a5dfbf3a-cfbc-4017-b4b1-be51db3e10c0"
      },
      "outputs": [
        {
          "data": {
            "image/png": "[encoded data removed]",
            "text/plain": [
              "<IPython.core.display.Image object>"
            ]
          },
          "metadata": {},
          "output_type": "display_data"
        }
      ],
      "source": [
        "from langchain_teddynote.graphs import visualize_graph\n",
        "\n",
        "visualize_graph(graph0)"
      ]
    },
    {
      "cell_type": "code",
      "execution_count": null,
      "metadata": {
        "colab": {
          "base_uri": "https://localhost:8080/",
          "height": 1000
        },
        "id": "wv0WLvU8sR2T",
        "outputId": "82984be9-ffc0-4f0e-94da-66686e8c9b00"
      },
      "outputs": [
        {
          "ename": "NotImplementedError",
          "evalue": "",
          "output_type": "error",
          "traceback": [
            "\u001b[0;31m---------------------------------------------------------------------------\u001b[0m",
            "\u001b[0;31mNotImplementedError\u001b[0m                       Traceback (most recent call last)",
            "\u001b[0;32m<ipython-input-8-2e8d21661ab9>\u001b[0m in \u001b[0;36m<cell line: 0>\u001b[0;34m()\u001b[0m\n\u001b[0;32m----> 1\u001b[0;31m \u001b[0mgraph0\u001b[0m\u001b[0;34m.\u001b[0m\u001b[0minvoke\u001b[0m\u001b[0;34m(\u001b[0m\u001b[0;34m{\u001b[0m\u001b[0;34m'user_input'\u001b[0m \u001b[0;34m:\u001b[0m \u001b[0;34m'1번과 2번을 사용해서 이 문제를 풀어주세요'\u001b[0m\u001b[0;34m}\u001b[0m\u001b[0;34m)\u001b[0m\u001b[0;34m\u001b[0m\u001b[0;34m\u001b[0m\u001b[0m\n\u001b[0m",
            "\u001b[0;32m/usr/local/lib/python3.11/dist-packages/langgraph/pregel/__init__.py\u001b[0m in \u001b[0;36minvoke\u001b[0;34m(self, input, config, stream_mode, output_keys, interrupt_before, interrupt_after, debug, **kwargs)\u001b[0m\n\u001b[1;32m   1938\u001b[0m         \u001b[0;32melse\u001b[0m\u001b[0;34m:\u001b[0m\u001b[0;34m\u001b[0m\u001b[0;34m\u001b[0m\u001b[0m\n\u001b[1;32m   1939\u001b[0m             \u001b[0mchunks\u001b[0m \u001b[0;34m=\u001b[0m \u001b[0;34m[\u001b[0m\u001b[0;34m]\u001b[0m\u001b[0;34m\u001b[0m\u001b[0;34m\u001b[0m\u001b[0m\n\u001b[0;32m-> 1940\u001b[0;31m         for chunk in self.stream(\n\u001b[0m\u001b[1;32m   1941\u001b[0m             \u001b[0minput\u001b[0m\u001b[0;34m,\u001b[0m\u001b[0;34m\u001b[0m\u001b[0;34m\u001b[0m\u001b[0m\n\u001b[1;32m   1942\u001b[0m             \u001b[0mconfig\u001b[0m\u001b[0;34m,\u001b[0m\u001b[0;34m\u001b[0m\u001b[0;34m\u001b[0m\u001b[0m\n",
            "\u001b[0;32m/usr/local/lib/python3.11/dist-packages/langgraph/pregel/__init__.py\u001b[0m in \u001b[0;36mstream\u001b[0;34m(self, input, config, stream_mode, output_keys, interrupt_before, interrupt_after, debug, subgraphs)\u001b[0m\n\u001b[1;32m   1658\u001b[0m                 \u001b[0;31m# with channel updates applied only at the transition between steps\u001b[0m\u001b[0;34m\u001b[0m\u001b[0;34m\u001b[0m\u001b[0m\n\u001b[1;32m   1659\u001b[0m                 \u001b[0;32mwhile\u001b[0m \u001b[0mloop\u001b[0m\u001b[0;34m.\u001b[0m\u001b[0mtick\u001b[0m\u001b[0;34m(\u001b[0m\u001b[0minput_keys\u001b[0m\u001b[0;34m=\u001b[0m\u001b[0mself\u001b[0m\u001b[0;34m.\u001b[0m\u001b[0minput_channels\u001b[0m\u001b[0;34m)\u001b[0m\u001b[0;34m:\u001b[0m\u001b[0;34m\u001b[0m\u001b[0;34m\u001b[0m\u001b[0m\n\u001b[0;32m-> 1660\u001b[0;31m                     for _ in runner.tick(\n\u001b[0m\u001b[1;32m   1661\u001b[0m                         \u001b[0mloop\u001b[0m\u001b[0;34m.\u001b[0m\u001b[0mtasks\u001b[0m\u001b[0;34m.\u001b[0m\u001b[0mvalues\u001b[0m\u001b[0;34m(\u001b[0m\u001b[0;34m)\u001b[0m\u001b[0;34m,\u001b[0m\u001b[0;34m\u001b[0m\u001b[0;34m\u001b[0m\u001b[0m\n\u001b[1;32m   1662\u001b[0m                         \u001b[0mtimeout\u001b[0m\u001b[0;34m=\u001b[0m\u001b[0mself\u001b[0m\u001b[0;34m.\u001b[0m\u001b[0mstep_timeout\u001b[0m\u001b[0;34m,\u001b[0m\u001b[0;34m\u001b[0m\u001b[0;34m\u001b[0m\u001b[0m\n",
            "\u001b[0;32m/usr/local/lib/python3.11/dist-packages/langgraph/pregel/runner.py\u001b[0m in \u001b[0;36mtick\u001b[0;34m(self, tasks, reraise, timeout, retry_policy, get_waiter)\u001b[0m\n\u001b[1;32m    165\u001b[0m             \u001b[0mt\u001b[0m \u001b[0;34m=\u001b[0m \u001b[0mtasks\u001b[0m\u001b[0;34m[\u001b[0m\u001b[0;36m0\u001b[0m\u001b[0;34m]\u001b[0m\u001b[0;34m\u001b[0m\u001b[0;34m\u001b[0m\u001b[0m\n\u001b[1;32m    166\u001b[0m             \u001b[0;32mtry\u001b[0m\u001b[0;34m:\u001b[0m\u001b[0;34m\u001b[0m\u001b[0;34m\u001b[0m\u001b[0m\n\u001b[0;32m--> 167\u001b[0;31m                 run_with_retry(\n\u001b[0m\u001b[1;32m    168\u001b[0m                     \u001b[0mt\u001b[0m\u001b[0;34m,\u001b[0m\u001b[0;34m\u001b[0m\u001b[0;34m\u001b[0m\u001b[0m\n\u001b[1;32m    169\u001b[0m                     \u001b[0mretry_policy\u001b[0m\u001b[0;34m,\u001b[0m\u001b[0;34m\u001b[0m\u001b[0;34m\u001b[0m\u001b[0m\n",
            "\u001b[0;32m/usr/local/lib/python3.11/dist-packages/langgraph/pregel/retry.py\u001b[0m in \u001b[0;36mrun_with_retry\u001b[0;34m(task, retry_policy, configurable)\u001b[0m\n\u001b[1;32m     38\u001b[0m             \u001b[0mtask\u001b[0m\u001b[0;34m.\u001b[0m\u001b[0mwrites\u001b[0m\u001b[0;34m.\u001b[0m\u001b[0mclear\u001b[0m\u001b[0;34m(\u001b[0m\u001b[0;34m)\u001b[0m\u001b[0;34m\u001b[0m\u001b[0;34m\u001b[0m\u001b[0m\n\u001b[1;32m     39\u001b[0m             \u001b[0;31m# run the task\u001b[0m\u001b[0;34m\u001b[0m\u001b[0;34m\u001b[0m\u001b[0m\n\u001b[0;32m---> 40\u001b[0;31m             \u001b[0;32mreturn\u001b[0m \u001b[0mtask\u001b[0m\u001b[0;34m.\u001b[0m\u001b[0mproc\u001b[0m\u001b[0;34m.\u001b[0m\u001b[0minvoke\u001b[0m\u001b[0;34m(\u001b[0m\u001b[0mtask\u001b[0m\u001b[0;34m.\u001b[0m\u001b[0minput\u001b[0m\u001b[0;34m,\u001b[0m \u001b[0mconfig\u001b[0m\u001b[0;34m)\u001b[0m\u001b[0;34m\u001b[0m\u001b[0;34m\u001b[0m\u001b[0m\n\u001b[0m\u001b[1;32m     41\u001b[0m         \u001b[0;32mexcept\u001b[0m \u001b[0mParentCommand\u001b[0m \u001b[0;32mas\u001b[0m \u001b[0mexc\u001b[0m\u001b[0;34m:\u001b[0m\u001b[0;34m\u001b[0m\u001b[0;34m\u001b[0m\u001b[0m\n\u001b[1;32m     42\u001b[0m             \u001b[0mns\u001b[0m\u001b[0;34m:\u001b[0m \u001b[0mstr\u001b[0m \u001b[0;34m=\u001b[0m \u001b[0mconfig\u001b[0m\u001b[0;34m[\u001b[0m\u001b[0mCONF\u001b[0m\u001b[0;34m]\u001b[0m\u001b[0;34m[\u001b[0m\u001b[0mCONFIG_KEY_CHECKPOINT_NS\u001b[0m\u001b[0;34m]\u001b[0m\u001b[0;34m\u001b[0m\u001b[0;34m\u001b[0m\u001b[0m\n",
            "\u001b[0;32m/usr/local/lib/python3.11/dist-packages/langgraph/utils/runnable.py\u001b[0m in \u001b[0;36minvoke\u001b[0;34m(self, input, config, **kwargs)\u001b[0m\n\u001b[1;32m    406\u001b[0m                 )\n\u001b[1;32m    407\u001b[0m                 \u001b[0;32mif\u001b[0m \u001b[0mi\u001b[0m \u001b[0;34m==\u001b[0m \u001b[0;36m0\u001b[0m\u001b[0;34m:\u001b[0m\u001b[0;34m\u001b[0m\u001b[0;34m\u001b[0m\u001b[0m\n\u001b[0;32m--> 408\u001b[0;31m                     \u001b[0minput\u001b[0m \u001b[0;34m=\u001b[0m \u001b[0mstep\u001b[0m\u001b[0;34m.\u001b[0m\u001b[0minvoke\u001b[0m\u001b[0;34m(\u001b[0m\u001b[0minput\u001b[0m\u001b[0;34m,\u001b[0m \u001b[0mconfig\u001b[0m\u001b[0;34m,\u001b[0m \u001b[0;34m**\u001b[0m\u001b[0mkwargs\u001b[0m\u001b[0;34m)\u001b[0m\u001b[0;34m\u001b[0m\u001b[0;34m\u001b[0m\u001b[0m\n\u001b[0m\u001b[1;32m    409\u001b[0m                 \u001b[0;32melse\u001b[0m\u001b[0;34m:\u001b[0m\u001b[0;34m\u001b[0m\u001b[0;34m\u001b[0m\u001b[0m\n\u001b[1;32m    410\u001b[0m                     \u001b[0minput\u001b[0m \u001b[0;34m=\u001b[0m \u001b[0mstep\u001b[0m\u001b[0;34m.\u001b[0m\u001b[0minvoke\u001b[0m\u001b[0;34m(\u001b[0m\u001b[0minput\u001b[0m\u001b[0;34m,\u001b[0m \u001b[0mconfig\u001b[0m\u001b[0;34m)\u001b[0m\u001b[0;34m\u001b[0m\u001b[0;34m\u001b[0m\u001b[0m\n",
            "\u001b[0;32m/usr/local/lib/python3.11/dist-packages/langgraph/utils/runnable.py\u001b[0m in \u001b[0;36minvoke\u001b[0;34m(self, input, config, **kwargs)\u001b[0m\n\u001b[1;32m    182\u001b[0m         \u001b[0;32melse\u001b[0m\u001b[0;34m:\u001b[0m\u001b[0;34m\u001b[0m\u001b[0;34m\u001b[0m\u001b[0m\n\u001b[1;32m    183\u001b[0m             \u001b[0mcontext\u001b[0m\u001b[0;34m.\u001b[0m\u001b[0mrun\u001b[0m\u001b[0;34m(\u001b[0m\u001b[0m_set_config_context\u001b[0m\u001b[0;34m,\u001b[0m \u001b[0mconfig\u001b[0m\u001b[0;34m)\u001b[0m\u001b[0;34m\u001b[0m\u001b[0;34m\u001b[0m\u001b[0m\n\u001b[0;32m--> 184\u001b[0;31m             \u001b[0mret\u001b[0m \u001b[0;34m=\u001b[0m \u001b[0mcontext\u001b[0m\u001b[0;34m.\u001b[0m\u001b[0mrun\u001b[0m\u001b[0;34m(\u001b[0m\u001b[0mself\u001b[0m\u001b[0;34m.\u001b[0m\u001b[0mfunc\u001b[0m\u001b[0;34m,\u001b[0m \u001b[0minput\u001b[0m\u001b[0;34m,\u001b[0m \u001b[0;34m**\u001b[0m\u001b[0mkwargs\u001b[0m\u001b[0;34m)\u001b[0m\u001b[0;34m\u001b[0m\u001b[0;34m\u001b[0m\u001b[0m\n\u001b[0m\u001b[1;32m    185\u001b[0m         \u001b[0;32mif\u001b[0m \u001b[0misinstance\u001b[0m\u001b[0;34m(\u001b[0m\u001b[0mret\u001b[0m\u001b[0;34m,\u001b[0m \u001b[0mRunnable\u001b[0m\u001b[0;34m)\u001b[0m \u001b[0;32mand\u001b[0m \u001b[0mself\u001b[0m\u001b[0;34m.\u001b[0m\u001b[0mrecurse\u001b[0m\u001b[0;34m:\u001b[0m\u001b[0;34m\u001b[0m\u001b[0;34m\u001b[0m\u001b[0m\n\u001b[1;32m    186\u001b[0m             \u001b[0;32mreturn\u001b[0m \u001b[0mret\u001b[0m\u001b[0;34m.\u001b[0m\u001b[0minvoke\u001b[0m\u001b[0;34m(\u001b[0m\u001b[0minput\u001b[0m\u001b[0;34m,\u001b[0m \u001b[0mconfig\u001b[0m\u001b[0;34m)\u001b[0m\u001b[0;34m\u001b[0m\u001b[0;34m\u001b[0m\u001b[0m\n",
            "\u001b[0;32m<ipython-input-7-091b48f5d254>\u001b[0m in \u001b[0;36mhc_choice_case0\u001b[0;34m(state)\u001b[0m\n\u001b[1;32m     38\u001b[0m     \u001b[0muser_input\u001b[0m \u001b[0;34m=\u001b[0m \u001b[0mstate\u001b[0m\u001b[0;34m[\u001b[0m\u001b[0;34m'user_input'\u001b[0m\u001b[0;34m]\u001b[0m\u001b[0;34m\u001b[0m\u001b[0;34m\u001b[0m\u001b[0m\n\u001b[1;32m     39\u001b[0m     \u001b[0mllm\u001b[0m \u001b[0;34m=\u001b[0m \u001b[0mChatOpenAI\u001b[0m\u001b[0;34m(\u001b[0m\u001b[0mmodel\u001b[0m\u001b[0;34m=\u001b[0m\u001b[0;34m\"gpt-4o\"\u001b[0m\u001b[0;34m,\u001b[0m \u001b[0mtemperature\u001b[0m\u001b[0;34m=\u001b[0m\u001b[0;36m0\u001b[0m\u001b[0;34m)\u001b[0m\u001b[0;34m\u001b[0m\u001b[0;34m\u001b[0m\u001b[0m\n\u001b[0;32m---> 40\u001b[0;31m     \u001b[0mcase_method_llm\u001b[0m \u001b[0;34m=\u001b[0m \u001b[0mllm\u001b[0m\u001b[0;34m.\u001b[0m\u001b[0mwith_structured_output\u001b[0m\u001b[0;34m(\u001b[0m\u001b[0mCaseMethod\u001b[0m\u001b[0;34m)\u001b[0m\u001b[0;34m\u001b[0m\u001b[0;34m\u001b[0m\u001b[0m\n\u001b[0m\u001b[1;32m     41\u001b[0m     \u001b[0mcase_method_chain\u001b[0m \u001b[0;34m=\u001b[0m \u001b[0mcase_prompt\u001b[0m \u001b[0;34m|\u001b[0m \u001b[0mcase_method_llm\u001b[0m\u001b[0;34m\u001b[0m\u001b[0;34m\u001b[0m\u001b[0m\n\u001b[1;32m     42\u001b[0m     \u001b[0mcase_method_input\u001b[0m \u001b[0;34m=\u001b[0m \u001b[0;34m{\u001b[0m\u001b[0;34m\"user_input\"\u001b[0m\u001b[0;34m:\u001b[0m \u001b[0muser_input\u001b[0m\u001b[0;34m}\u001b[0m\u001b[0;34m\u001b[0m\u001b[0;34m\u001b[0m\u001b[0m\n",
            "\u001b[0;32m/usr/local/lib/python3.11/dist-packages/langchain_core/language_models/chat_models.py\u001b[0m in \u001b[0;36mwith_structured_output\u001b[0;34m(self, schema, include_raw, **kwargs)\u001b[0m\n\u001b[1;32m   1236\u001b[0m             \u001b[0mmsg\u001b[0m \u001b[0;34m=\u001b[0m \u001b[0;34m\"with_structured_output is not implemented for this model.\"\u001b[0m\u001b[0;34m\u001b[0m\u001b[0;34m\u001b[0m\u001b[0m\n\u001b[1;32m   1237\u001b[0m             \u001b[0;32mraise\u001b[0m \u001b[0mNotImplementedError\u001b[0m\u001b[0;34m(\u001b[0m\u001b[0mmsg\u001b[0m\u001b[0;34m)\u001b[0m\u001b[0;34m\u001b[0m\u001b[0;34m\u001b[0m\u001b[0m\n\u001b[0;32m-> 1238\u001b[0;31m         \u001b[0mllm\u001b[0m \u001b[0;34m=\u001b[0m \u001b[0mself\u001b[0m\u001b[0;34m.\u001b[0m\u001b[0mbind_tools\u001b[0m\u001b[0;34m(\u001b[0m\u001b[0;34m[\u001b[0m\u001b[0mschema\u001b[0m\u001b[0;34m]\u001b[0m\u001b[0;34m,\u001b[0m \u001b[0mtool_choice\u001b[0m\u001b[0;34m=\u001b[0m\u001b[0;34m\"any\"\u001b[0m\u001b[0;34m)\u001b[0m\u001b[0;34m\u001b[0m\u001b[0;34m\u001b[0m\u001b[0m\n\u001b[0m\u001b[1;32m   1239\u001b[0m         \u001b[0;32mif\u001b[0m \u001b[0misinstance\u001b[0m\u001b[0;34m(\u001b[0m\u001b[0mschema\u001b[0m\u001b[0;34m,\u001b[0m \u001b[0mtype\u001b[0m\u001b[0;34m)\u001b[0m \u001b[0;32mand\u001b[0m \u001b[0mis_basemodel_subclass\u001b[0m\u001b[0;34m(\u001b[0m\u001b[0mschema\u001b[0m\u001b[0;34m)\u001b[0m\u001b[0;34m:\u001b[0m\u001b[0;34m\u001b[0m\u001b[0;34m\u001b[0m\u001b[0m\n\u001b[1;32m   1240\u001b[0m             output_parser: OutputParserLike = PydanticToolsParser(\n",
            "\u001b[0;32m/usr/local/lib/python3.11/dist-packages/langchain_core/language_models/chat_models.py\u001b[0m in \u001b[0;36mbind_tools\u001b[0;34m(self, tools, **kwargs)\u001b[0m\n\u001b[1;32m   1113\u001b[0m         \u001b[0;34m**\u001b[0m\u001b[0mkwargs\u001b[0m\u001b[0;34m:\u001b[0m \u001b[0mAny\u001b[0m\u001b[0;34m,\u001b[0m\u001b[0;34m\u001b[0m\u001b[0;34m\u001b[0m\u001b[0m\n\u001b[1;32m   1114\u001b[0m     ) -> Runnable[LanguageModelInput, BaseMessage]:\n\u001b[0;32m-> 1115\u001b[0;31m         \u001b[0;32mraise\u001b[0m \u001b[0mNotImplementedError\u001b[0m\u001b[0;34m\u001b[0m\u001b[0;34m\u001b[0m\u001b[0m\n\u001b[0m\u001b[1;32m   1116\u001b[0m \u001b[0;34m\u001b[0m\u001b[0m\n\u001b[1;32m   1117\u001b[0m     def with_structured_output(\n",
            "\u001b[0;31mNotImplementedError\u001b[0m: "
          ]
        }
      ],
      "source": [
        "graph0.invoke({'user_input' : '1번과 2번을 사용해서 이 문제를 풀어주세요'})"
      ]
    }
  ],
  "metadata": {
    "colab": {
      "collapsed_sections": [
        "mFHmLzJt8lXE",
        "VgnIbA9MreEZ",
        "LBprLW_AnXLg"
      ],
      "provenance": []
    },
    "kernelspec": {
      "display_name": "Python 3",
      "name": "python3"
    },
    "language_info": {
      "codemirror_mode": {
        "name": "ipython",
        "version": 3
      },
      "file_extension": ".py",
      "mimetype": "text/x-python",
      "name": "python",
      "nbconvert_exporter": "python",
      "pygments_lexer": "ipython3",
      "version": "3.12.3"
    }
  },
  "nbformat": 4,
  "nbformat_minor": 0
}
